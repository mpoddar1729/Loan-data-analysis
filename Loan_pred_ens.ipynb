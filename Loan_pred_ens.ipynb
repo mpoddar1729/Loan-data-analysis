{
 "cells": [
  {
   "cell_type": "markdown",
   "metadata": {},
   "source": [
    "# Some experiments with a loan dataset\n",
    "We analyse labelled loan application data having 614 observations and 11 features applying supervised machine learning algorithms including neural nets. The data has been obtained from Analytics Vidhya. "
   ]
  },
  {
   "cell_type": "markdown",
   "metadata": {},
   "source": [
    "\n",
    "# Roadmap\n",
    "\n",
    "\n",
    "Since the analysis is a bit lengthy, here is a roadmap.\n",
    "\n",
    "After some EDA and data munging, we fit the standard classification models from scikitlearn like Logistic Regression, SVC, Linear SVC, Random Forest, KNN etc. We introduce some extra features that improve the performance a little bit. Feature importances (or coefficients) more or less conform to the EDA. Logistic, Linear SVC and Random Forest are the best performers.\n",
    "\n",
    "However, all models suffer from a very weak recall score (about 0.45) for the class 0 (loan rejected). Two possible shortcomings may be: 1) Models not able to produce desired nonlinearlity of decision boundary or 2) Models having diffculty with noisy decison boundary, possibly aggravated by unbalanced classes ( 69 % approved versus 31 % rejected). \n",
    "\n",
    "Since Logistic and Linear SVC have performed better than SVC,  the second possiblity is more likely to be playing the spoiler. So we try the AdaBoost Classifier, which tries to recitify things by assigning higher weights to misclassified observations. We use Random Forest as the base classifer for AdaBoost. This has a good impact on recall score for class 0 (0.55), but precision for this class goes down(0.75) and f-1 score does not change(0.64). Weighted average of f1 is 0.80, better than our previous best of 0.79.\n",
    "\n",
    "However, we know that neural networks are much better at discovering nonlinear decision boundaries. So to double-check, we build a neural net from scratch (with one hidden layer, He initialization, and the options of using Momentum or Adam optimizations). The net does not outperform Logistic Regression. Recall for class 0 is again 0.45.\n",
    "\n",
    "We do a final experiment: We know that neural nets love bigger datasets. Can we adress the imbalance in the classes by producing a bigger and more balanced training set using random sampling with replacement? We carry this out. For class 0 we get recall=0.63, precision=0.65, f1=0.64. Weighted average of f1 is again 0.80. So this is as good as AdaBoost, and a bit more balanced even.\n",
    "\n",
    "\n"
   ]
  },
  {
   "cell_type": "code",
   "execution_count": 1,
   "metadata": {},
   "outputs": [],
   "source": [
    "# Package imports\n",
    "import numpy as np\n",
    "import matplotlib.pyplot as plt\n",
    "import seaborn as sns\n",
    "sns.set() #setting default option for seaborn\n",
    "import pandas as pd\n",
    "import sklearn\n",
    "import sklearn.datasets\n",
    "import sklearn.linear_model\n",
    "\n",
    "\n",
    "%matplotlib inline  \n",
    "\n",
    "from sklearn.preprocessing import StandardScaler\n",
    "from sklearn.model_selection import train_test_split\n",
    "from sklearn.metrics import classification_report\n",
    "from sklearn.model_selection import GridSearchCV\n",
    "from sklearn.model_selection import cross_val_score\n",
    "\n",
    "from sklearn.linear_model import LogisticRegression\n",
    "from sklearn.ensemble import RandomForestClassifier\n",
    "from sklearn import svm\n",
    "from sklearn.neighbors import KNeighborsClassifier\n",
    "from sklearn.tree import DecisionTreeClassifier\n",
    "\n",
    "np.random.seed(2)"
   ]
  },
  {
   "cell_type": "code",
   "execution_count": 2,
   "metadata": {},
   "outputs": [],
   "source": [
    "# Importing test data from same directory\n",
    "\n",
    "test=pd.read_csv('test_Y3wMUE5_7gLdaTN.csv') \n",
    "df_test=pd.DataFrame(test)\n",
    "\n",
    "\n",
    "# Importing train data from \n",
    "\n",
    "train=pd.read_csv('train_u6lujuX_CVtuZ9i.csv')\n",
    "df=pd.DataFrame(train)\n",
    "\n",
    "\n"
   ]
  },
  {
   "cell_type": "markdown",
   "metadata": {},
   "source": [
    "# Exploratory Data Analysis"
   ]
  },
  {
   "cell_type": "code",
   "execution_count": 3,
   "metadata": {},
   "outputs": [
    {
     "data": {
      "text/html": [
       "<div>\n",
       "<style scoped>\n",
       "    .dataframe tbody tr th:only-of-type {\n",
       "        vertical-align: middle;\n",
       "    }\n",
       "\n",
       "    .dataframe tbody tr th {\n",
       "        vertical-align: top;\n",
       "    }\n",
       "\n",
       "    .dataframe thead th {\n",
       "        text-align: right;\n",
       "    }\n",
       "</style>\n",
       "<table border=\"1\" class=\"dataframe\">\n",
       "  <thead>\n",
       "    <tr style=\"text-align: right;\">\n",
       "      <th></th>\n",
       "      <th>Loan_ID</th>\n",
       "      <th>Gender</th>\n",
       "      <th>Married</th>\n",
       "      <th>Dependents</th>\n",
       "      <th>Education</th>\n",
       "      <th>Self_Employed</th>\n",
       "      <th>ApplicantIncome</th>\n",
       "      <th>CoapplicantIncome</th>\n",
       "      <th>LoanAmount</th>\n",
       "      <th>Loan_Amount_Term</th>\n",
       "      <th>Credit_History</th>\n",
       "      <th>Property_Area</th>\n",
       "      <th>Loan_Status</th>\n",
       "    </tr>\n",
       "  </thead>\n",
       "  <tbody>\n",
       "    <tr>\n",
       "      <th>0</th>\n",
       "      <td>LP001002</td>\n",
       "      <td>Male</td>\n",
       "      <td>No</td>\n",
       "      <td>0</td>\n",
       "      <td>Graduate</td>\n",
       "      <td>No</td>\n",
       "      <td>5849</td>\n",
       "      <td>0.0</td>\n",
       "      <td>NaN</td>\n",
       "      <td>360.0</td>\n",
       "      <td>1.0</td>\n",
       "      <td>Urban</td>\n",
       "      <td>Y</td>\n",
       "    </tr>\n",
       "    <tr>\n",
       "      <th>1</th>\n",
       "      <td>LP001003</td>\n",
       "      <td>Male</td>\n",
       "      <td>Yes</td>\n",
       "      <td>1</td>\n",
       "      <td>Graduate</td>\n",
       "      <td>No</td>\n",
       "      <td>4583</td>\n",
       "      <td>1508.0</td>\n",
       "      <td>128.0</td>\n",
       "      <td>360.0</td>\n",
       "      <td>1.0</td>\n",
       "      <td>Rural</td>\n",
       "      <td>N</td>\n",
       "    </tr>\n",
       "    <tr>\n",
       "      <th>2</th>\n",
       "      <td>LP001005</td>\n",
       "      <td>Male</td>\n",
       "      <td>Yes</td>\n",
       "      <td>0</td>\n",
       "      <td>Graduate</td>\n",
       "      <td>Yes</td>\n",
       "      <td>3000</td>\n",
       "      <td>0.0</td>\n",
       "      <td>66.0</td>\n",
       "      <td>360.0</td>\n",
       "      <td>1.0</td>\n",
       "      <td>Urban</td>\n",
       "      <td>Y</td>\n",
       "    </tr>\n",
       "    <tr>\n",
       "      <th>3</th>\n",
       "      <td>LP001006</td>\n",
       "      <td>Male</td>\n",
       "      <td>Yes</td>\n",
       "      <td>0</td>\n",
       "      <td>Not Graduate</td>\n",
       "      <td>No</td>\n",
       "      <td>2583</td>\n",
       "      <td>2358.0</td>\n",
       "      <td>120.0</td>\n",
       "      <td>360.0</td>\n",
       "      <td>1.0</td>\n",
       "      <td>Urban</td>\n",
       "      <td>Y</td>\n",
       "    </tr>\n",
       "    <tr>\n",
       "      <th>4</th>\n",
       "      <td>LP001008</td>\n",
       "      <td>Male</td>\n",
       "      <td>No</td>\n",
       "      <td>0</td>\n",
       "      <td>Graduate</td>\n",
       "      <td>No</td>\n",
       "      <td>6000</td>\n",
       "      <td>0.0</td>\n",
       "      <td>141.0</td>\n",
       "      <td>360.0</td>\n",
       "      <td>1.0</td>\n",
       "      <td>Urban</td>\n",
       "      <td>Y</td>\n",
       "    </tr>\n",
       "  </tbody>\n",
       "</table>\n",
       "</div>"
      ],
      "text/plain": [
       "    Loan_ID Gender Married Dependents     Education Self_Employed  \\\n",
       "0  LP001002   Male      No          0      Graduate            No   \n",
       "1  LP001003   Male     Yes          1      Graduate            No   \n",
       "2  LP001005   Male     Yes          0      Graduate           Yes   \n",
       "3  LP001006   Male     Yes          0  Not Graduate            No   \n",
       "4  LP001008   Male      No          0      Graduate            No   \n",
       "\n",
       "   ApplicantIncome  CoapplicantIncome  LoanAmount  Loan_Amount_Term  \\\n",
       "0             5849                0.0         NaN             360.0   \n",
       "1             4583             1508.0       128.0             360.0   \n",
       "2             3000                0.0        66.0             360.0   \n",
       "3             2583             2358.0       120.0             360.0   \n",
       "4             6000                0.0       141.0             360.0   \n",
       "\n",
       "   Credit_History Property_Area Loan_Status  \n",
       "0             1.0         Urban           Y  \n",
       "1             1.0         Rural           N  \n",
       "2             1.0         Urban           Y  \n",
       "3             1.0         Urban           Y  \n",
       "4             1.0         Urban           Y  "
      ]
     },
     "execution_count": 3,
     "metadata": {},
     "output_type": "execute_result"
    }
   ],
   "source": [
    "df.head()"
   ]
  },
  {
   "cell_type": "code",
   "execution_count": 4,
   "metadata": {},
   "outputs": [
    {
     "name": "stdout",
     "output_type": "stream",
     "text": [
      "<class 'pandas.core.frame.DataFrame'>\n",
      "RangeIndex: 614 entries, 0 to 613\n",
      "Data columns (total 13 columns):\n",
      "Loan_ID              614 non-null object\n",
      "Gender               601 non-null object\n",
      "Married              611 non-null object\n",
      "Dependents           599 non-null object\n",
      "Education            614 non-null object\n",
      "Self_Employed        582 non-null object\n",
      "ApplicantIncome      614 non-null int64\n",
      "CoapplicantIncome    614 non-null float64\n",
      "LoanAmount           592 non-null float64\n",
      "Loan_Amount_Term     600 non-null float64\n",
      "Credit_History       564 non-null float64\n",
      "Property_Area        614 non-null object\n",
      "Loan_Status          614 non-null object\n",
      "dtypes: float64(4), int64(1), object(8)\n",
      "memory usage: 43.2+ KB\n"
     ]
    }
   ],
   "source": [
    "df.info()"
   ]
  },
  {
   "cell_type": "markdown",
   "metadata": {},
   "source": [
    "We note that there are missing or null values in the Gender, Married, Dependents, Self_Employed, Loan_Amount, Loan_Amount_Term,\n",
    "Credit_History columns. \n",
    "\n",
    "Before we deal with these, let us do some exploratory data analysis. "
   ]
  },
  {
   "cell_type": "code",
   "execution_count": 5,
   "metadata": {},
   "outputs": [
    {
     "name": "stdout",
     "output_type": "stream",
     "text": [
      "Y    422\n",
      "N    192\n",
      "Name: Loan_Status, dtype: int64\n"
     ]
    }
   ],
   "source": [
    "print(df['Loan_Status'].value_counts())"
   ]
  },
  {
   "cell_type": "markdown",
   "metadata": {},
   "source": [
    "We observe that about 69% of the loan applications were accepted.\n",
    "\n",
    "Let us do some inspection of how the categorical features like  Gender, Married, Education, Self_Employed and Property_Area effect the success of the loan application."
   ]
  },
  {
   "cell_type": "code",
   "execution_count": 6,
   "metadata": {},
   "outputs": [
    {
     "data": {
      "image/png": "[encoded data removed]",
      "text/plain": [
       "<Figure size 432x288 with 1 Axes>"
      ]
     },
     "metadata": {},
     "output_type": "display_data"
    },
    {
     "name": "stdout",
     "output_type": "stream",
     "text": [
      "Percantage of successful Loan Applicants by Property_Area:\n",
      "Loan_Status          N          Y\n",
      "Married                          \n",
      "No           37.089202  62.910798\n",
      "Yes          28.391960  71.608040\n"
     ]
    }
   ],
   "source": [
    "temp = pd.crosstab(df['Married'], df['Loan_Status'])\n",
    "temp.plot(kind='bar', stacked=True, color=['red', 'blue'], grid=False)\n",
    "plt.show()\n",
    "\n",
    "total= (np.sum(temp, axis= 1))\n",
    "\n",
    "print(\"Percantage of successful Loan Applicants by Property_Area:\")\n",
    "for col in list(temp.columns): \n",
    "        temp[col] = temp[col]/total * 100\n",
    "    \n",
    "print(temp)\n"
   ]
  },
  {
   "cell_type": "markdown",
   "metadata": {},
   "source": [
    "Marital status seems to have some bearing on the success of loan application. What about Gender?"
   ]
  },
  {
   "cell_type": "code",
   "execution_count": 7,
   "metadata": {},
   "outputs": [
    {
     "data": {
      "image/png": "[encoded data removed]",
      "text/plain": [
       "<Figure size 432x288 with 1 Axes>"
      ]
     },
     "metadata": {},
     "output_type": "display_data"
    },
    {
     "name": "stdout",
     "output_type": "stream",
     "text": [
      "Percantage of successful Loan Applicants by Property_Area:\n",
      "Loan_Status          N          Y\n",
      "Gender                           \n",
      "Female       33.035714  66.964286\n",
      "Male         30.674847  69.325153\n"
     ]
    }
   ],
   "source": [
    "temp = pd.crosstab(df['Gender'], df['Loan_Status'])\n",
    "temp.plot(kind='bar', stacked=True, color=['red', 'blue'], grid=False)\n",
    "plt.show()\n",
    "\n",
    "total= (np.sum(temp, axis= 1))\n",
    "\n",
    "print(\"Percantage of successful Loan Applicants by Property_Area:\")\n",
    "for col in list(temp.columns): \n",
    "        temp[col] = temp[col]/total * 100\n",
    "    \n",
    "print(temp)\n"
   ]
  },
  {
   "cell_type": "markdown",
   "metadata": {},
   "source": [
    "Gender seems to have at most a small effect on Loan_Status. Let's check on Education next."
   ]
  },
  {
   "cell_type": "code",
   "execution_count": 8,
   "metadata": {},
   "outputs": [
    {
     "data": {
      "image/png": "[encoded data removed]",
      "text/plain": [
       "<Figure size 432x288 with 1 Axes>"
      ]
     },
     "metadata": {},
     "output_type": "display_data"
    },
    {
     "name": "stdout",
     "output_type": "stream",
     "text": [
      "Percantage of successful Loan Applicants by Gender:\n",
      "Loan_Status           N          Y\n",
      "Education                         \n",
      "Graduate      29.166667  70.833333\n",
      "Not Graduate  38.805970  61.194030\n"
     ]
    }
   ],
   "source": [
    "temp = pd.crosstab(df['Education'], df['Loan_Status'])\n",
    "temp.plot(kind='bar', stacked=True, color=['red', 'blue'], grid=False)\n",
    "plt.show()\n",
    "\n",
    "total= (np.sum(temp, axis= 1))\n",
    "\n",
    "print(\"Percantage of successful Loan Applicants by Gender:\")\n",
    "for col in list(temp.columns): \n",
    "        temp[col] = temp[col]/total * 100\n",
    "    \n",
    "print(temp)"
   ]
  },
  {
   "cell_type": "markdown",
   "metadata": {},
   "source": [
    "Education seems to have a significant effect on Loan_Status. But, what about Property_Area?"
   ]
  },
  {
   "cell_type": "code",
   "execution_count": 9,
   "metadata": {},
   "outputs": [
    {
     "data": {
      "image/png": "[encoded data removed]",
      "text/plain": [
       "<Figure size 432x288 with 1 Axes>"
      ]
     },
     "metadata": {},
     "output_type": "display_data"
    },
    {
     "name": "stdout",
     "output_type": "stream",
     "text": [
      "Loan_Status     N    Y\n",
      "Property_Area         \n",
      "Rural          69  110\n",
      "Semiurban      54  179\n",
      "Urban          69  133\n",
      "Percantage of successful Loan Applicants by Property_Area:\n",
      "Loan_Status            N          Y\n",
      "Property_Area                      \n",
      "Rural          38.547486  61.452514\n",
      "Semiurban      23.175966  76.824034\n",
      "Urban          34.158416  65.841584\n"
     ]
    }
   ],
   "source": [
    "temp = pd.crosstab(df['Property_Area'], df['Loan_Status'])\n",
    "temp.plot(kind='bar', stacked=True, color=['red', 'blue'], grid=False)\n",
    "plt.show()\n",
    "\n",
    "print(temp)\n",
    "\n",
    "total= (np.sum(temp, axis= 1))\n",
    "\n",
    "print(\"Percantage of successful Loan Applicants by Property_Area:\")\n",
    "for col in list(temp.columns): \n",
    "        temp[col] = temp[col]/total * 100\n",
    "    \n",
    "print(temp)\n"
   ]
  },
  {
   "cell_type": "markdown",
   "metadata": {},
   "source": [
    "Property_Area seems to have considerable effect on Loan_Status. Note that semiurban properties have much higher success rate than urban or rural properties.\n",
    "\n",
    "Let us check on the effect of Employment type. "
   ]
  },
  {
   "cell_type": "code",
   "execution_count": 10,
   "metadata": {
    "scrolled": true
   },
   "outputs": [
    {
     "data": {
      "image/png": "[encoded data removed]",
      "text/plain": [
       "<Figure size 432x288 with 1 Axes>"
      ]
     },
     "metadata": {},
     "output_type": "display_data"
    },
    {
     "name": "stdout",
     "output_type": "stream",
     "text": [
      "Percantage of successful Loan Applicants by Employment type:\n",
      "Loan_Status            N          Y\n",
      "Self_Employed                      \n",
      "No             31.400000  68.600000\n",
      "Yes            31.707317  68.292683\n"
     ]
    }
   ],
   "source": [
    "temp = pd.crosstab(df['Self_Employed'], df['Loan_Status'])\n",
    "temp.plot(kind='bar', stacked=True, color=['red', 'blue'], grid=False)\n",
    "plt.show()\n",
    "\n",
    "total= (np.sum(temp, axis= 1))\n",
    "\n",
    "print(\"Percantage of successful Loan Applicants by Employment type:\")\n",
    "for col in list(temp.columns): \n",
    "        temp[col] = temp[col]/total * 100\n",
    "    \n",
    "print(temp)"
   ]
  },
  {
   "cell_type": "markdown",
   "metadata": {},
   "source": [
    "We observe that Employment type has almost no effect on Loan_Status."
   ]
  },
  {
   "cell_type": "markdown",
   "metadata": {},
   "source": [
    "# Data wrangling and some more EDA:"
   ]
  },
  {
   "cell_type": "markdown",
   "metadata": {},
   "source": [
    "\n",
    "Before we proceed to fit some machine learning models to the data, we need to clean it up. \n",
    "\n",
    "We have talked earlier about missing values. Since the percentage of missing values for each feature is reasonably low, we may hope to fill these out with some average value of the feature without distorting the data too much. We use mode for the categorical variables, and median for the numerical ones."
   ]
  },
  {
   "cell_type": "code",
   "execution_count": 11,
   "metadata": {},
   "outputs": [],
   "source": [
    "#Missing values\n",
    "\n",
    "misslist=['Gender', 'Married', 'Dependents', 'Self_Employed',  'Credit_History']\n",
    "\n",
    "for var in misslist:\n",
    "    df[var].fillna(df[var].mode()[0], inplace=True)\n",
    "\n",
    "df['LoanAmount'].fillna(df['LoanAmount'].median(), inplace=True)\n",
    "df['Loan_Amount_Term'].fillna(df['Loan_Amount_Term'].median(), inplace=True)\n"
   ]
  },
  {
   "cell_type": "markdown",
   "metadata": {},
   "source": [
    "Scikitlearn machine learning algorithms accept only numerical inputs. So we are going to convert all catergorical entries into numerical ones. We use the LabelEncoder package of scikitlearn.\n"
   ]
  },
  {
   "cell_type": "code",
   "execution_count": 12,
   "metadata": {},
   "outputs": [],
   "source": [
    "#Categorical Values to numeric\n",
    "\n",
    "from sklearn.preprocessing import LabelEncoder\n",
    "var_mod = ['Gender','Married','Dependents','Education','Self_Employed', 'Loan_Status']\n",
    "\n",
    "le = LabelEncoder()\n",
    "for i in var_mod:\n",
    "    df[i] = le.fit_transform(df[i])"
   ]
  },
  {
   "cell_type": "markdown",
   "metadata": {},
   "source": [
    "We deal with the Property_Area column separately as it has 3 different categories LabelEncoder would \n",
    "assign them values 0, 1, and 2. However there is no justification why the value of a category \n",
    "'Urban' be double of another 'Semiurban'. It is better to create independent features for these categories. We do this using 'get_dummies' function of pandas.  "
   ]
  },
  {
   "cell_type": "code",
   "execution_count": 13,
   "metadata": {},
   "outputs": [
    {
     "data": {
      "text/html": [
       "<div>\n",
       "<style scoped>\n",
       "    .dataframe tbody tr th:only-of-type {\n",
       "        vertical-align: middle;\n",
       "    }\n",
       "\n",
       "    .dataframe tbody tr th {\n",
       "        vertical-align: top;\n",
       "    }\n",
       "\n",
       "    .dataframe thead th {\n",
       "        text-align: right;\n",
       "    }\n",
       "</style>\n",
       "<table border=\"1\" class=\"dataframe\">\n",
       "  <thead>\n",
       "    <tr style=\"text-align: right;\">\n",
       "      <th></th>\n",
       "      <th>Property_Area_Rural</th>\n",
       "      <th>Property_Area_Semiurban</th>\n",
       "      <th>Property_Area_Urban</th>\n",
       "    </tr>\n",
       "  </thead>\n",
       "  <tbody>\n",
       "    <tr>\n",
       "      <th>0</th>\n",
       "      <td>0</td>\n",
       "      <td>0</td>\n",
       "      <td>1</td>\n",
       "    </tr>\n",
       "    <tr>\n",
       "      <th>1</th>\n",
       "      <td>1</td>\n",
       "      <td>0</td>\n",
       "      <td>0</td>\n",
       "    </tr>\n",
       "    <tr>\n",
       "      <th>2</th>\n",
       "      <td>0</td>\n",
       "      <td>0</td>\n",
       "      <td>1</td>\n",
       "    </tr>\n",
       "    <tr>\n",
       "      <th>3</th>\n",
       "      <td>0</td>\n",
       "      <td>0</td>\n",
       "      <td>1</td>\n",
       "    </tr>\n",
       "    <tr>\n",
       "      <th>4</th>\n",
       "      <td>0</td>\n",
       "      <td>0</td>\n",
       "      <td>1</td>\n",
       "    </tr>\n",
       "  </tbody>\n",
       "</table>\n",
       "</div>"
      ],
      "text/plain": [
       "   Property_Area_Rural  Property_Area_Semiurban  Property_Area_Urban\n",
       "0                    0                        0                    1\n",
       "1                    1                        0                    0\n",
       "2                    0                        0                    1\n",
       "3                    0                        0                    1\n",
       "4                    0                        0                    1"
      ]
     },
     "execution_count": 13,
     "metadata": {},
     "output_type": "execute_result"
    }
   ],
   "source": [
    "#Categorical Values to numeric continued\n",
    "\n",
    "df.Property_Area = df.Property_Area.astype('category')\n",
    "\n",
    "#using pandas get_dummies function for the Property_Area column as it has multiple labels\n",
    "\n",
    "dummies=pd.get_dummies(df[['Property_Area']])\n",
    "dummies.head()"
   ]
  },
  {
   "cell_type": "code",
   "execution_count": 14,
   "metadata": {},
   "outputs": [],
   "source": [
    "# incorporating only two of the 3 dummy columns to ensure linear independence\n",
    "\n",
    "df['Property_Area_Rural'] = dummies['Property_Area_Rural']\n",
    "df['Property_Area_Urban'] = dummies['Property_Area_Urban']\n",
    "\n",
    "#dropping the now redundant categorical Property_Area column\n",
    "\n",
    "df = df.drop('Property_Area', axis=1)"
   ]
  },
  {
   "cell_type": "markdown",
   "metadata": {},
   "source": [
    "Let us check out the data types of the various features."
   ]
  },
  {
   "cell_type": "code",
   "execution_count": 15,
   "metadata": {},
   "outputs": [
    {
     "data": {
      "text/plain": [
       "Loan_ID                 object\n",
       "Gender                   int32\n",
       "Married                  int32\n",
       "Dependents               int32\n",
       "Education                int32\n",
       "Self_Employed            int32\n",
       "ApplicantIncome          int64\n",
       "CoapplicantIncome      float64\n",
       "LoanAmount             float64\n",
       "Loan_Amount_Term       float64\n",
       "Credit_History         float64\n",
       "Loan_Status              int32\n",
       "Property_Area_Rural      uint8\n",
       "Property_Area_Urban      uint8\n",
       "dtype: object"
      ]
     },
     "execution_count": 15,
     "metadata": {},
     "output_type": "execute_result"
    }
   ],
   "source": [
    "\n",
    "df.dtypes \n"
   ]
  },
  {
   "cell_type": "markdown",
   "metadata": {},
   "source": [
    "Let us examine the correlation between all variables using the heatmap function of seaborn."
   ]
  },
  {
   "cell_type": "code",
   "execution_count": 16,
   "metadata": {},
   "outputs": [
    {
     "data": {
      "image/png": "[encoded data removed]",
      "text/plain": [
       "<Figure size 576x576 with 2 Axes>"
      ]
     },
     "metadata": {},
     "output_type": "display_data"
    }
   ],
   "source": [
    "#Heatmap of correlation coefficients\n",
    "\n",
    "sns.heatmap(df.corr(),annot=True)\n",
    "fig = plt.gcf()\n",
    "fig.set_size_inches(8,8)\n"
   ]
  },
  {
   "cell_type": "markdown",
   "metadata": {},
   "source": [
    "Credit_History seems to be highly correlated with Loan_Status. The other variables having relatively nontrivial correlation with Loan_Status are Property_Area_Rural, Education and Married (marital status): as is to be expected from our bar plots. \n",
    "\n",
    "It is a bit surprising to see that none of the numerical features like ApplicantIncome has a significant correlation with Loan_Status. Is Loan_Status correlated to the sum of Applicant and Coapplicant incomes?\n",
    "\n"
   ]
  },
  {
   "cell_type": "code",
   "execution_count": 17,
   "metadata": {},
   "outputs": [
    {
     "name": "stdout",
     "output_type": "stream",
     "text": [
      "-0.0312707788727\n"
     ]
    }
   ],
   "source": [
    "TotalIncome= df['ApplicantIncome'] + df['CoapplicantIncome']\n",
    "print(np.corrcoef(TotalIncome, df['Loan_Status'] )[0,1])"
   ]
  },
  {
   "cell_type": "markdown",
   "metadata": {},
   "source": [
    "Nah!! Let us take a closer look at the distribution of the variables."
   ]
  },
  {
   "cell_type": "code",
   "execution_count": 18,
   "metadata": {
    "scrolled": true
   },
   "outputs": [
    {
     "data": {
      "text/html": [
       "<div>\n",
       "<style scoped>\n",
       "    .dataframe tbody tr th:only-of-type {\n",
       "        vertical-align: middle;\n",
       "    }\n",
       "\n",
       "    .dataframe tbody tr th {\n",
       "        vertical-align: top;\n",
       "    }\n",
       "\n",
       "    .dataframe thead th {\n",
       "        text-align: right;\n",
       "    }\n",
       "</style>\n",
       "<table border=\"1\" class=\"dataframe\">\n",
       "  <thead>\n",
       "    <tr style=\"text-align: right;\">\n",
       "      <th></th>\n",
       "      <th>Gender</th>\n",
       "      <th>Married</th>\n",
       "      <th>Dependents</th>\n",
       "      <th>Education</th>\n",
       "      <th>Self_Employed</th>\n",
       "      <th>ApplicantIncome</th>\n",
       "      <th>CoapplicantIncome</th>\n",
       "      <th>LoanAmount</th>\n",
       "      <th>Loan_Amount_Term</th>\n",
       "      <th>Credit_History</th>\n",
       "      <th>Loan_Status</th>\n",
       "      <th>Property_Area_Rural</th>\n",
       "      <th>Property_Area_Urban</th>\n",
       "    </tr>\n",
       "  </thead>\n",
       "  <tbody>\n",
       "    <tr>\n",
       "      <th>count</th>\n",
       "      <td>614.000000</td>\n",
       "      <td>614.000000</td>\n",
       "      <td>614.000000</td>\n",
       "      <td>614.000000</td>\n",
       "      <td>614.000000</td>\n",
       "      <td>614.000000</td>\n",
       "      <td>614.000000</td>\n",
       "      <td>614.000000</td>\n",
       "      <td>614.000000</td>\n",
       "      <td>614.000000</td>\n",
       "      <td>614.000000</td>\n",
       "      <td>614.000000</td>\n",
       "      <td>614.000000</td>\n",
       "    </tr>\n",
       "    <tr>\n",
       "      <th>mean</th>\n",
       "      <td>0.817590</td>\n",
       "      <td>0.653094</td>\n",
       "      <td>0.744300</td>\n",
       "      <td>0.218241</td>\n",
       "      <td>0.133550</td>\n",
       "      <td>5403.459283</td>\n",
       "      <td>1621.245798</td>\n",
       "      <td>145.752443</td>\n",
       "      <td>342.410423</td>\n",
       "      <td>0.855049</td>\n",
       "      <td>0.687296</td>\n",
       "      <td>0.291531</td>\n",
       "      <td>0.328990</td>\n",
       "    </tr>\n",
       "    <tr>\n",
       "      <th>std</th>\n",
       "      <td>0.386497</td>\n",
       "      <td>0.476373</td>\n",
       "      <td>1.009623</td>\n",
       "      <td>0.413389</td>\n",
       "      <td>0.340446</td>\n",
       "      <td>6109.041673</td>\n",
       "      <td>2926.248369</td>\n",
       "      <td>84.107233</td>\n",
       "      <td>64.428629</td>\n",
       "      <td>0.352339</td>\n",
       "      <td>0.463973</td>\n",
       "      <td>0.454838</td>\n",
       "      <td>0.470229</td>\n",
       "    </tr>\n",
       "    <tr>\n",
       "      <th>min</th>\n",
       "      <td>0.000000</td>\n",
       "      <td>0.000000</td>\n",
       "      <td>0.000000</td>\n",
       "      <td>0.000000</td>\n",
       "      <td>0.000000</td>\n",
       "      <td>150.000000</td>\n",
       "      <td>0.000000</td>\n",
       "      <td>9.000000</td>\n",
       "      <td>12.000000</td>\n",
       "      <td>0.000000</td>\n",
       "      <td>0.000000</td>\n",
       "      <td>0.000000</td>\n",
       "      <td>0.000000</td>\n",
       "    </tr>\n",
       "    <tr>\n",
       "      <th>25%</th>\n",
       "      <td>1.000000</td>\n",
       "      <td>0.000000</td>\n",
       "      <td>0.000000</td>\n",
       "      <td>0.000000</td>\n",
       "      <td>0.000000</td>\n",
       "      <td>2877.500000</td>\n",
       "      <td>0.000000</td>\n",
       "      <td>100.250000</td>\n",
       "      <td>360.000000</td>\n",
       "      <td>1.000000</td>\n",
       "      <td>0.000000</td>\n",
       "      <td>0.000000</td>\n",
       "      <td>0.000000</td>\n",
       "    </tr>\n",
       "    <tr>\n",
       "      <th>50%</th>\n",
       "      <td>1.000000</td>\n",
       "      <td>1.000000</td>\n",
       "      <td>0.000000</td>\n",
       "      <td>0.000000</td>\n",
       "      <td>0.000000</td>\n",
       "      <td>3812.500000</td>\n",
       "      <td>1188.500000</td>\n",
       "      <td>128.000000</td>\n",
       "      <td>360.000000</td>\n",
       "      <td>1.000000</td>\n",
       "      <td>1.000000</td>\n",
       "      <td>0.000000</td>\n",
       "      <td>0.000000</td>\n",
       "    </tr>\n",
       "    <tr>\n",
       "      <th>75%</th>\n",
       "      <td>1.000000</td>\n",
       "      <td>1.000000</td>\n",
       "      <td>1.000000</td>\n",
       "      <td>0.000000</td>\n",
       "      <td>0.000000</td>\n",
       "      <td>5795.000000</td>\n",
       "      <td>2297.250000</td>\n",
       "      <td>164.750000</td>\n",
       "      <td>360.000000</td>\n",
       "      <td>1.000000</td>\n",
       "      <td>1.000000</td>\n",
       "      <td>1.000000</td>\n",
       "      <td>1.000000</td>\n",
       "    </tr>\n",
       "    <tr>\n",
       "      <th>max</th>\n",
       "      <td>1.000000</td>\n",
       "      <td>1.000000</td>\n",
       "      <td>3.000000</td>\n",
       "      <td>1.000000</td>\n",
       "      <td>1.000000</td>\n",
       "      <td>81000.000000</td>\n",
       "      <td>41667.000000</td>\n",
       "      <td>700.000000</td>\n",
       "      <td>480.000000</td>\n",
       "      <td>1.000000</td>\n",
       "      <td>1.000000</td>\n",
       "      <td>1.000000</td>\n",
       "      <td>1.000000</td>\n",
       "    </tr>\n",
       "  </tbody>\n",
       "</table>\n",
       "</div>"
      ],
      "text/plain": [
       "           Gender     Married  Dependents   Education  Self_Employed  \\\n",
       "count  614.000000  614.000000  614.000000  614.000000     614.000000   \n",
       "mean     0.817590    0.653094    0.744300    0.218241       0.133550   \n",
       "std      0.386497    0.476373    1.009623    0.413389       0.340446   \n",
       "min      0.000000    0.000000    0.000000    0.000000       0.000000   \n",
       "25%      1.000000    0.000000    0.000000    0.000000       0.000000   \n",
       "50%      1.000000    1.000000    0.000000    0.000000       0.000000   \n",
       "75%      1.000000    1.000000    1.000000    0.000000       0.000000   \n",
       "max      1.000000    1.000000    3.000000    1.000000       1.000000   \n",
       "\n",
       "       ApplicantIncome  CoapplicantIncome  LoanAmount  Loan_Amount_Term  \\\n",
       "count       614.000000         614.000000  614.000000        614.000000   \n",
       "mean       5403.459283        1621.245798  145.752443        342.410423   \n",
       "std        6109.041673        2926.248369   84.107233         64.428629   \n",
       "min         150.000000           0.000000    9.000000         12.000000   \n",
       "25%        2877.500000           0.000000  100.250000        360.000000   \n",
       "50%        3812.500000        1188.500000  128.000000        360.000000   \n",
       "75%        5795.000000        2297.250000  164.750000        360.000000   \n",
       "max       81000.000000       41667.000000  700.000000        480.000000   \n",
       "\n",
       "       Credit_History  Loan_Status  Property_Area_Rural  Property_Area_Urban  \n",
       "count      614.000000   614.000000           614.000000           614.000000  \n",
       "mean         0.855049     0.687296             0.291531             0.328990  \n",
       "std          0.352339     0.463973             0.454838             0.470229  \n",
       "min          0.000000     0.000000             0.000000             0.000000  \n",
       "25%          1.000000     0.000000             0.000000             0.000000  \n",
       "50%          1.000000     1.000000             0.000000             0.000000  \n",
       "75%          1.000000     1.000000             1.000000             1.000000  \n",
       "max          1.000000     1.000000             1.000000             1.000000  "
      ]
     },
     "execution_count": 18,
     "metadata": {},
     "output_type": "execute_result"
    }
   ],
   "source": [
    "df.describe()"
   ]
  },
  {
   "cell_type": "markdown",
   "metadata": {},
   "source": [
    "It is apparent that the features ApplicantIncome, CoapplicantIncome and LoanAmount have very high variance caused by \n",
    "extremely high outlying values. Look at the box plot of the LoanAmount column below for instance. \n",
    "\n",
    "Such outliers affect the performance of machine learning algorithms in a detrimental way. So we will perform a logarithmic \n",
    "transformation on these to make them more amenable."
   ]
  },
  {
   "cell_type": "code",
   "execution_count": 19,
   "metadata": {},
   "outputs": [
    {
     "data": {
      "text/plain": [
       "<matplotlib.axes._subplots.AxesSubplot at 0xb91d3b0>"
      ]
     },
     "execution_count": 19,
     "metadata": {},
     "output_type": "execute_result"
    },
    {
     "data": {
      "image/png": "[encoded data removed]",
      "text/plain": [
       "<Figure size 432x288 with 1 Axes>"
      ]
     },
     "metadata": {},
     "output_type": "display_data"
    }
   ],
   "source": [
    "sns.boxplot(y='LoanAmount', data=df)"
   ]
  },
  {
   "cell_type": "code",
   "execution_count": 20,
   "metadata": {},
   "outputs": [
    {
     "data": {
      "text/html": [
       "<div>\n",
       "<style scoped>\n",
       "    .dataframe tbody tr th:only-of-type {\n",
       "        vertical-align: middle;\n",
       "    }\n",
       "\n",
       "    .dataframe tbody tr th {\n",
       "        vertical-align: top;\n",
       "    }\n",
       "\n",
       "    .dataframe thead th {\n",
       "        text-align: right;\n",
       "    }\n",
       "</style>\n",
       "<table border=\"1\" class=\"dataframe\">\n",
       "  <thead>\n",
       "    <tr style=\"text-align: right;\">\n",
       "      <th></th>\n",
       "      <th>AI_log</th>\n",
       "      <th>CAI_log</th>\n",
       "      <th>LA_log</th>\n",
       "    </tr>\n",
       "  </thead>\n",
       "  <tbody>\n",
       "    <tr>\n",
       "      <th>count</th>\n",
       "      <td>614.000000</td>\n",
       "      <td>614.000000</td>\n",
       "      <td>614.000000</td>\n",
       "    </tr>\n",
       "    <tr>\n",
       "      <th>mean</th>\n",
       "      <td>8.341510</td>\n",
       "      <td>4.290129</td>\n",
       "      <td>4.857250</td>\n",
       "    </tr>\n",
       "    <tr>\n",
       "      <th>std</th>\n",
       "      <td>0.645035</td>\n",
       "      <td>3.875873</td>\n",
       "      <td>0.495996</td>\n",
       "    </tr>\n",
       "    <tr>\n",
       "      <th>min</th>\n",
       "      <td>5.017280</td>\n",
       "      <td>0.000000</td>\n",
       "      <td>2.197225</td>\n",
       "    </tr>\n",
       "    <tr>\n",
       "      <th>25%</th>\n",
       "      <td>7.965024</td>\n",
       "      <td>0.000000</td>\n",
       "      <td>4.607658</td>\n",
       "    </tr>\n",
       "    <tr>\n",
       "      <th>50%</th>\n",
       "      <td>8.246303</td>\n",
       "      <td>7.081125</td>\n",
       "      <td>4.852030</td>\n",
       "    </tr>\n",
       "    <tr>\n",
       "      <th>75%</th>\n",
       "      <td>8.664922</td>\n",
       "      <td>7.739897</td>\n",
       "      <td>5.104426</td>\n",
       "    </tr>\n",
       "    <tr>\n",
       "      <th>max</th>\n",
       "      <td>11.302217</td>\n",
       "      <td>10.637489</td>\n",
       "      <td>6.551080</td>\n",
       "    </tr>\n",
       "  </tbody>\n",
       "</table>\n",
       "</div>"
      ],
      "text/plain": [
       "           AI_log     CAI_log      LA_log\n",
       "count  614.000000  614.000000  614.000000\n",
       "mean     8.341510    4.290129    4.857250\n",
       "std      0.645035    3.875873    0.495996\n",
       "min      5.017280    0.000000    2.197225\n",
       "25%      7.965024    0.000000    4.607658\n",
       "50%      8.246303    7.081125    4.852030\n",
       "75%      8.664922    7.739897    5.104426\n",
       "max     11.302217   10.637489    6.551080"
      ]
     },
     "execution_count": 20,
     "metadata": {},
     "output_type": "execute_result"
    }
   ],
   "source": [
    "df['AI_log'] = np.log(df['ApplicantIncome']+1)\n",
    "df['CAI_log'] = np.log(df['CoapplicantIncome']+1)\n",
    "df['LA_log'] = np.log(df['LoanAmount'])\n",
    "\n",
    "df[['AI_log', 'CAI_log', 'LA_log']].describe()"
   ]
  },
  {
   "cell_type": "code",
   "execution_count": 21,
   "metadata": {},
   "outputs": [
    {
     "data": {
      "text/plain": [
       "<matplotlib.axes._subplots.AxesSubplot at 0xb91dfd0>"
      ]
     },
     "execution_count": 21,
     "metadata": {},
     "output_type": "execute_result"
    },
    {
     "data": {
      "image/png": "[encoded data removed]",
      "text/plain": [
       "<Figure size 432x288 with 1 Axes>"
      ]
     },
     "metadata": {},
     "output_type": "display_data"
    }
   ],
   "source": [
    "sns.boxplot(y='LA_log', data=df)"
   ]
  },
  {
   "cell_type": "markdown",
   "metadata": {},
   "source": [
    "Finally we shift and scale every feature to mean zero and unit variance. This will improve the performance of the learning algorithms."
   ]
  },
  {
   "cell_type": "code",
   "execution_count": 22,
   "metadata": {},
   "outputs": [],
   "source": [
    "Y= df[\"Loan_Status\"]\n",
    "X= df.drop([\"Loan_ID\", 'ApplicantIncome', 'CoapplicantIncome', 'LoanAmount', \"Loan_Status\"], axis = 1)\n",
    "\n",
    "\n",
    "scaler = StandardScaler()\n",
    "X_scaled = pd.DataFrame(scaler.fit_transform(X))\n",
    "\n"
   ]
  },
  {
   "cell_type": "markdown",
   "metadata": {},
   "source": [
    "# Fitting various models from Scikitlearn"
   ]
  },
  {
   "cell_type": "markdown",
   "metadata": {},
   "source": [
    "\n",
    "We now define a function that we can easily call upon to split the data into test and train sets, fit a model, compute accuracy and cross validation scores and also display importance or weight of various features in the model."
   ]
  },
  {
   "cell_type": "code",
   "execution_count": 23,
   "metadata": {},
   "outputs": [],
   "source": [
    "def modelfit(clf, feature_wt = False, feature_imp = False, cv_folds=5):\n",
    "    \n",
    "    X_train,X_test,Y_train,Y_test = train_test_split(X_scaled, Y, stratify= Y, test_size=0.2, random_state = 2)\n",
    "\n",
    "    \n",
    "    clf.fit(X_train, Y_train)\n",
    "    print('Model score: ' + str(clf.score(X_train, Y_train )) )\n",
    "    \n",
    "    Y_pred=clf.predict(X_test)\n",
    "\n",
    "    print(classification_report(Y_test, Y_pred))\n",
    "\n",
    "    \n",
    "   \n",
    "    \n",
    "    if feature_wt:\n",
    "        \n",
    "        print('Logistic Reg coefficients: {}'.format(clf.coef_ ) )\n",
    "        ind = X.columns\n",
    "        coefs = clf.coef_\n",
    "        ### coef = pd.DataFrame(clf.coef_ )\n",
    "        ### coef.columns= ind\n",
    "        ### coef.plot(kind='bar', title = 'Feature Weights')\n",
    "        \n",
    "         \n",
    "        plt.bar(ind, np.squeeze(coefs) )\n",
    "        plt.xticks(ind, rotation=90)\n",
    "        plt.xlabel('Features')\n",
    "        plt.ylabel('Logistic Reg coefficients')\n",
    "        \n",
    "\n",
    "    \n",
    "    elif feature_imp:\n",
    "        feature_importance = pd.Series(clf.feature_importances_, X.columns).sort_values(ascending=False)\n",
    "        feature_importance.plot(kind='bar', title = 'Feature Importances')\n",
    "                                           \n",
    "\n",
    "    cv_score = cross_val_score(clf, X_scaled, Y, cv=cv_folds, scoring='roc_auc')\n",
    "    mean_cv = np.mean(cv_score)\n",
    "    print('CV_auc:' + str(cv_score))\n",
    "    print('Mean CV_auc: ' + str(mean_cv))\n",
    "    \n",
    "    cv_score = cross_val_score(clf, X_scaled, Y, cv=cv_folds, scoring='accuracy')\n",
    "    mean_cv = np.mean(cv_score)\n",
    "    print('CV_accuracy:' + str(cv_score))\n",
    "    print('Mean CV_accuracy: ' + str(mean_cv))\n",
    "    \n",
    "                                       \n"
   ]
  },
  {
   "cell_type": "markdown",
   "metadata": {},
   "source": [
    "We will first try to fit the logistic regression model to the data. Note that the standard version of logistic regression is L2 regularized.\n"
   ]
  },
  {
   "cell_type": "code",
   "execution_count": 24,
   "metadata": {},
   "outputs": [
    {
     "name": "stdout",
     "output_type": "stream",
     "text": [
      "Model score: 0.812627291242\n",
      "             precision    recall  f1-score   support\n",
      "\n",
      "          0       0.81      0.45      0.58        38\n",
      "          1       0.79      0.95      0.87        85\n",
      "\n",
      "avg / total       0.80      0.80      0.78       123\n",
      "\n",
      "Logistic Reg coefficients: [[-0.19928743  0.29760389  0.0938355  -0.14319958  0.03644102 -0.07139349\n",
      "   1.44376874 -0.34697729 -0.19590268  0.19801877  0.25600823 -0.3010327 ]]\n",
      "CV_auc:[ 0.80482655  0.71493213  0.75532581  0.82424812  0.69423559]\n",
      "Mean CV_auc: 0.758713639302\n",
      "CV_accuracy:[ 0.81451613  0.76612903  0.79508197  0.85245902  0.81967213]\n",
      "Mean CV_accuracy: 0.809571655209\n"
     ]
    },
    {
     "data": {
      "image/png": "[encoded data removed]",
      "text/plain": [
       "<Figure size 432x288 with 1 Axes>"
      ]
     },
     "metadata": {},
     "output_type": "display_data"
    }
   ],
   "source": [
    "lr = LogisticRegression()\n",
    "modelfit(lr, feature_wt=True)"
   ]
  },
  {
   "cell_type": "markdown",
   "metadata": {},
   "source": [
    "A model accuracy of 81% with a mean cross validation accuracy of 80.95% is not bad! Roc_auc CV score is a healthy 0.7587. But a recall score of 45% for the 0 class suggests a problem: a bias towards the positive class.\n",
    "\n",
    "Otherwise the weights of the different features seem to generally coorborate our intuition from the exploratory data analysis: Credit_History is very influential. Property_Area's (Rural and Urban) appear prominently with negative signs - this makes sense as they should balance the relative positive effect of (the absent) Property_Area_Suburban. We happily note that the logarithmic incomes and loan amounts are pulling their weights in the right directions. \n",
    "\n",
    "The only surprise is the less than anticipated showing of Education (compared to Gender for instance) and that Self_Employed plays a part too!"
   ]
  },
  {
   "cell_type": "markdown",
   "metadata": {},
   "source": [
    "And why is Depenedents having a positive effect?!"
   ]
  },
  {
   "cell_type": "markdown",
   "metadata": {},
   "source": [
    "I did try dropping these two features, Self_Employed and Dependendents, but that did not improve matters."
   ]
  },
  {
   "cell_type": "markdown",
   "metadata": {},
   "source": [
    "Let us see if a Decison Tree Classifier does better. It is palusible that a tree like decison making process may indeed be involved in loan approval. "
   ]
  },
  {
   "cell_type": "code",
   "execution_count": 25,
   "metadata": {
    "scrolled": true
   },
   "outputs": [
    {
     "name": "stdout",
     "output_type": "stream",
     "text": [
      "Model score: 0.828920570265\n",
      "             precision    recall  f1-score   support\n",
      "\n",
      "          0       0.81      0.45      0.58        38\n",
      "          1       0.79      0.95      0.87        85\n",
      "\n",
      "avg / total       0.80      0.80      0.78       123\n",
      "\n",
      "CV_auc:[ 0.75505279  0.56877828  0.65068922  0.77631579  0.75454261]\n",
      "Mean CV_auc: 0.701075737988\n",
      "CV_accuracy:[ 0.80645161  0.73387097  0.78688525  0.85245902  0.83606557]\n",
      "Mean CV_accuracy: 0.803146483342\n"
     ]
    },
    {
     "data": {
      "image/png": "[encoded data removed]",
      "text/plain": [
       "<Figure size 432x288 with 1 Axes>"
      ]
     },
     "metadata": {},
     "output_type": "display_data"
    }
   ],
   "source": [
    "from sklearn.tree import DecisionTreeClassifier\n",
    "tree= DecisionTreeClassifier(max_depth = 4)\n",
    "modelfit(tree, feature_imp=True)"
   ]
  },
  {
   "cell_type": "markdown",
   "metadata": {},
   "source": [
    "Hmm... not as good as logistic ! Well, it is known that Decision Tree is a top-greedy algorithm. Let us try the more reputable \n",
    "Random Forest."
   ]
  },
  {
   "cell_type": "code",
   "execution_count": 26,
   "metadata": {
    "scrolled": true
   },
   "outputs": [
    {
     "name": "stdout",
     "output_type": "stream",
     "text": [
      "Model score: 0.812627291242\n",
      "             precision    recall  f1-score   support\n",
      "\n",
      "          0       0.85      0.45      0.59        38\n",
      "          1       0.80      0.96      0.87        85\n",
      "\n",
      "avg / total       0.81      0.80      0.78       123\n",
      "\n",
      "CV_auc:[ 0.80120664  0.66395173  0.7481203   0.78978697  0.75877193]\n",
      "Mean CV_auc: 0.752367513807\n",
      "CV_accuracy:[ 0.81451613  0.75806452  0.78688525  0.86065574  0.81967213]\n",
      "Mean CV_accuracy: 0.807958751983\n"
     ]
    },
    {
     "data": {
      "image/png": "[encoded data removed]",
      "text/plain": [
       "<Figure size 432x288 with 1 Axes>"
      ]
     },
     "metadata": {},
     "output_type": "display_data"
    }
   ],
   "source": [
    "rf=RandomForestClassifier(n_estimators=1000, max_depth=3, max_features=4, random_state=2)\n",
    "modelfit(rf, feature_imp=True)"
   ]
  },
  {
   "cell_type": "markdown",
   "metadata": {},
   "source": [
    "Ah! Random Forest loses out to Logistic Regression on both accuracy and AUC CV scores by a hair's breadth!"
   ]
  },
  {
   "cell_type": "code",
   "execution_count": 27,
   "metadata": {
    "scrolled": true
   },
   "outputs": [
    {
     "name": "stdout",
     "output_type": "stream",
     "text": [
      "Model score: 0.822810590631\n",
      "             precision    recall  f1-score   support\n",
      "\n",
      "          0       0.85      0.45      0.59        38\n",
      "          1       0.80      0.96      0.87        85\n",
      "\n",
      "avg / total       0.81      0.80      0.78       123\n",
      "\n",
      "CV_auc:[ 0.7453997   0.67662142  0.81046366  0.80012531  0.69266917]\n",
      "Mean CV_auc: 0.7450558523\n",
      "CV_accuracy:[ 0.81451613  0.76612903  0.78688525  0.8442623   0.81967213]\n",
      "Mean CV_accuracy: 0.806292966684\n"
     ]
    }
   ],
   "source": [
    "svc = svm.SVC()\n",
    "modelfit(svc)"
   ]
  },
  {
   "cell_type": "markdown",
   "metadata": {},
   "source": [
    "So SVC, which is good at coming up with a nonlinear decision boundary, does a good job too!\n",
    "But how much would we lose if we used SVC with linear decision boundary? Let us try LinearSVC and find out."
   ]
  },
  {
   "cell_type": "code",
   "execution_count": 28,
   "metadata": {},
   "outputs": [
    {
     "name": "stdout",
     "output_type": "stream",
     "text": [
      "Model score: 0.810590631365\n",
      "             precision    recall  f1-score   support\n",
      "\n",
      "          0       0.85      0.45      0.59        38\n",
      "          1       0.80      0.96      0.87        85\n",
      "\n",
      "avg / total       0.81      0.80      0.78       123\n",
      "\n",
      "CV_auc:[ 0.80392157  0.71402715  0.75689223  0.82393484  0.69486216]\n",
      "Mean CV_auc: 0.758727588201\n",
      "CV_accuracy:[ 0.81451613  0.76612903  0.78688525  0.86065574  0.81967213]\n",
      "Mean CV_accuracy: 0.809571655209\n"
     ]
    }
   ],
   "source": [
    "linsvc = svm.LinearSVC()\n",
    "modelfit(linsvc)"
   ]
  },
  {
   "cell_type": "markdown",
   "metadata": {},
   "source": [
    "Surprise, surprise! Linear SVC does better than SVC. Actually CV scores are as good as Logistic Regression."
   ]
  },
  {
   "cell_type": "code",
   "execution_count": 29,
   "metadata": {},
   "outputs": [
    {
     "name": "stdout",
     "output_type": "stream",
     "text": [
      "Model score: 0.822810590631\n",
      "             precision    recall  f1-score   support\n",
      "\n",
      "          0       0.77      0.45      0.57        38\n",
      "          1       0.79      0.94      0.86        85\n",
      "\n",
      "avg / total       0.79      0.79      0.77       123\n",
      "\n",
      "CV_auc:[ 0.71297134  0.5907994   0.69423559  0.77380952  0.66525689]\n",
      "Mean CV_auc: 0.687414548815\n",
      "CV_accuracy:[ 0.7983871   0.75        0.76229508  0.80327869  0.77868852]\n",
      "Mean CV_accuracy: 0.778529878371\n"
     ]
    }
   ],
   "source": [
    "knn=KNeighborsClassifier(n_neighbors=7)\n",
    "modelfit(knn)"
   ]
  },
  {
   "cell_type": "markdown",
   "metadata": {},
   "source": [
    "KNeighbors slips up in the CV score.\n",
    "\n",
    "To summarize all the models have a comparable f1 score of 0.78 (or 0.77 in case of KNeighbors). Logistic Regression and Linear SVC have the best cross validation scores of followed closely behind by Random Forest. All models suffer from a poor recall score of about 0.45 for the 0 class. \n",
    "\n"
   ]
  },
  {
   "cell_type": "markdown",
   "metadata": {},
   "source": [
    "# Feature Selection\n",
    "\n",
    "We will next check out if the performance improves if we put some additional features in the mix. These features are quite intuitive ratios of given features. For example it is quite possible that rather than a linear combination of income and dependents, the ratio of these may be more pertinent in determining Loan_Status. However, Logistic Regression would not consider such a nonlinear function of the features.\n",
    "\n",
    "We will look at the distributional aspects of these new features and take their logarithm if necessary. But we make sure that that the set of features remain linearly independent. Finally the features we add are: log of Total Income, log of Applicant Income to Number of Dependents ratio, log of Total Income to Number of Dependents ratio, and Loan Amount to Loan Amount Term ratio.\n"
   ]
  },
  {
   "cell_type": "code",
   "execution_count": 30,
   "metadata": {},
   "outputs": [
    {
     "data": {
      "text/html": [
       "<div>\n",
       "<style scoped>\n",
       "    .dataframe tbody tr th:only-of-type {\n",
       "        vertical-align: middle;\n",
       "    }\n",
       "\n",
       "    .dataframe tbody tr th {\n",
       "        vertical-align: top;\n",
       "    }\n",
       "\n",
       "    .dataframe thead th {\n",
       "        text-align: right;\n",
       "    }\n",
       "</style>\n",
       "<table border=\"1\" class=\"dataframe\">\n",
       "  <thead>\n",
       "    <tr style=\"text-align: right;\">\n",
       "      <th></th>\n",
       "      <th>TotalIncome</th>\n",
       "      <th>LA_LAT_ratio</th>\n",
       "      <th>AI_D_ratio</th>\n",
       "      <th>TI_D_ratio</th>\n",
       "    </tr>\n",
       "  </thead>\n",
       "  <tbody>\n",
       "    <tr>\n",
       "      <th>count</th>\n",
       "      <td>614.000000</td>\n",
       "      <td>614.000000</td>\n",
       "      <td>614.000000</td>\n",
       "      <td>614.000000</td>\n",
       "    </tr>\n",
       "    <tr>\n",
       "      <th>mean</th>\n",
       "      <td>7024.705081</td>\n",
       "      <td>0.473687</td>\n",
       "      <td>3833.354777</td>\n",
       "      <td>5024.998187</td>\n",
       "    </tr>\n",
       "    <tr>\n",
       "      <th>std</th>\n",
       "      <td>6458.663872</td>\n",
       "      <td>0.511134</td>\n",
       "      <td>4319.732743</td>\n",
       "      <td>4757.062214</td>\n",
       "    </tr>\n",
       "    <tr>\n",
       "      <th>min</th>\n",
       "      <td>1442.000000</td>\n",
       "      <td>0.025000</td>\n",
       "      <td>70.000000</td>\n",
       "      <td>457.500000</td>\n",
       "    </tr>\n",
       "    <tr>\n",
       "      <th>25%</th>\n",
       "      <td>4166.000000</td>\n",
       "      <td>0.288889</td>\n",
       "      <td>1734.875000</td>\n",
       "      <td>2354.375000</td>\n",
       "    </tr>\n",
       "    <tr>\n",
       "      <th>50%</th>\n",
       "      <td>5416.500000</td>\n",
       "      <td>0.361111</td>\n",
       "      <td>2777.666667</td>\n",
       "      <td>4166.000000</td>\n",
       "    </tr>\n",
       "    <tr>\n",
       "      <th>75%</th>\n",
       "      <td>7521.750000</td>\n",
       "      <td>0.505556</td>\n",
       "      <td>4327.750000</td>\n",
       "      <td>6000.000000</td>\n",
       "    </tr>\n",
       "    <tr>\n",
       "      <th>max</th>\n",
       "      <td>81000.000000</td>\n",
       "      <td>9.250000</td>\n",
       "      <td>63337.000000</td>\n",
       "      <td>63337.000000</td>\n",
       "    </tr>\n",
       "  </tbody>\n",
       "</table>\n",
       "</div>"
      ],
      "text/plain": [
       "        TotalIncome  LA_LAT_ratio    AI_D_ratio    TI_D_ratio\n",
       "count    614.000000    614.000000    614.000000    614.000000\n",
       "mean    7024.705081      0.473687   3833.354777   5024.998187\n",
       "std     6458.663872      0.511134   4319.732743   4757.062214\n",
       "min     1442.000000      0.025000     70.000000    457.500000\n",
       "25%     4166.000000      0.288889   1734.875000   2354.375000\n",
       "50%     5416.500000      0.361111   2777.666667   4166.000000\n",
       "75%     7521.750000      0.505556   4327.750000   6000.000000\n",
       "max    81000.000000      9.250000  63337.000000  63337.000000"
      ]
     },
     "execution_count": 30,
     "metadata": {},
     "output_type": "execute_result"
    }
   ],
   "source": [
    "#feature selection\n",
    "\n",
    "df['TotalIncome'] = df['ApplicantIncome'] + df['CoapplicantIncome']\n",
    "\n",
    "df['LA_LAT_ratio'] =df['LoanAmount']/df['Loan_Amount_Term']\n",
    "\n",
    "df['AI_D_ratio'] = df['ApplicantIncome']/ (df['Dependents'] +1) \n",
    "\n",
    "df['TI_D_ratio'] = df['TotalIncome']/( df['Dependents'] + 1 )\n",
    "\n",
    "df[[ 'TotalIncome', 'LA_LAT_ratio', 'AI_D_ratio', 'TI_D_ratio' ]].describe()\n"
   ]
  },
  {
   "cell_type": "markdown",
   "metadata": {},
   "source": [
    "It would help to take log of TotalIncome, AI_D_Ratio, and TI_D_ratio."
   ]
  },
  {
   "cell_type": "code",
   "execution_count": 31,
   "metadata": {},
   "outputs": [],
   "source": [
    "df['TI_log'] = np.log(df['TotalIncome'])\n",
    "df['AI_D_ratio_log'] = np.log(df['AI_D_ratio'] )\n",
    "df['TI_D_ratio_log'] = np.log(df['TI_D_ratio'])\n"
   ]
  },
  {
   "cell_type": "code",
   "execution_count": 32,
   "metadata": {},
   "outputs": [],
   "source": [
    "X['TI_log']= df['TI_log']\n",
    "X['AI_D_ratio_log'] = df['AI_D_ratio_log']\n",
    "X['TI_D_ratio_log'] = df['TI_D_ratio_log']\n",
    "X['LA_LAT_ratio'] = df['LA_LAT_ratio']"
   ]
  },
  {
   "cell_type": "code",
   "execution_count": 33,
   "metadata": {},
   "outputs": [],
   "source": [
    "X_scaled = pd.DataFrame(scaler.fit_transform(X))"
   ]
  },
  {
   "cell_type": "code",
   "execution_count": 34,
   "metadata": {},
   "outputs": [
    {
     "name": "stdout",
     "output_type": "stream",
     "text": [
      "Model score: 0.816700610998\n",
      "             precision    recall  f1-score   support\n",
      "\n",
      "          0       0.82      0.47      0.60        38\n",
      "          1       0.80      0.95      0.87        85\n",
      "\n",
      "avg / total       0.81      0.80      0.79       123\n",
      "\n",
      "Logistic Reg coefficients: [[-0.23442543  0.29698991  0.45268708 -0.1704154   0.05558223 -0.19270508\n",
      "   1.46708758 -0.34854385 -0.17241257  0.08799861  0.41405556 -0.11449918\n",
      "  -0.44105524  0.45580723  0.08055372 -0.14252309]]\n",
      "CV_auc:[ 0.8015083   0.69110106  0.75971178  0.83051378  0.68953634]\n",
      "Mean CV_auc: 0.754474251239\n",
      "CV_accuracy:[ 0.81451613  0.75806452  0.78688525  0.85245902  0.81147541]\n",
      "Mean CV_accuracy: 0.804680063458\n"
     ]
    },
    {
     "data": {
      "image/png": "[encoded data removed]",
      "text/plain": [
       "<Figure size 432x288 with 1 Axes>"
      ]
     },
     "metadata": {},
     "output_type": "display_data"
    }
   ],
   "source": [
    "modelfit(lr, feature_wt=True)"
   ]
  },
  {
   "cell_type": "code",
   "execution_count": 35,
   "metadata": {},
   "outputs": [
    {
     "name": "stdout",
     "output_type": "stream",
     "text": [
      "Model score: 0.816700610998\n",
      "             precision    recall  f1-score   support\n",
      "\n",
      "          0       0.86      0.47      0.61        38\n",
      "          1       0.80      0.96      0.88        85\n",
      "\n",
      "avg / total       0.82      0.81      0.79       123\n",
      "\n",
      "CV_auc:[ 0.78129713  0.70588235  0.77631579  0.7797619   0.76409774]\n",
      "Mean CV_auc: 0.761470985155\n",
      "CV_accuracy:[ 0.81451613  0.75806452  0.78688525  0.85245902  0.81967213]\n",
      "Mean CV_accuracy: 0.806319407721\n"
     ]
    },
    {
     "data": {
      "image/png": "[encoded data removed]",
      "text/plain": [
       "<Figure size 432x288 with 1 Axes>"
      ]
     },
     "metadata": {},
     "output_type": "display_data"
    }
   ],
   "source": [
    "modelfit(rf, feature_imp=True)"
   ]
  },
  {
   "cell_type": "code",
   "execution_count": 36,
   "metadata": {},
   "outputs": [
    {
     "name": "stdout",
     "output_type": "stream",
     "text": [
      "Model score: 0.81466395112\n",
      "             precision    recall  f1-score   support\n",
      "\n",
      "          0       0.86      0.47      0.61        38\n",
      "          1       0.80      0.96      0.88        85\n",
      "\n",
      "avg / total       0.82      0.81      0.79       123\n",
      "\n",
      "CV_auc:[ 0.80633484  0.67300151  0.7518797   0.82612782  0.69172932]\n",
      "Mean CV_auc: 0.749814638406\n",
      "CV_accuracy:[ 0.81451613  0.76612903  0.78688525  0.86065574  0.81147541]\n",
      "Mean CV_accuracy: 0.807932310947\n"
     ]
    }
   ],
   "source": [
    "modelfit(linsvc)"
   ]
  },
  {
   "cell_type": "markdown",
   "metadata": {},
   "source": [
    "Umm, the performance of our two most successful models, Logistic Regression and Random Forest, do not show much improvement due to the new features. f1-score goes up from 0.78 to 0.79 but mean CV score goes down a little.\n",
    "\n",
    "However, Random Forest achieves a AUC mean CV score of 0.76147 (and an f1 score of 0.79). This is the best performance by a model so far. It also gives relatively high importance to all the features that we added!!"
   ]
  },
  {
   "cell_type": "markdown",
   "metadata": {},
   "source": [
    "However, as the recall score for class 0 remains a lowly 0.47, let us see if the AdaBoostClassifier can help. AdaBoost works by increasing the weight of misclassified observations in the loss function. We use Random Forest as the base classifier."
   ]
  },
  {
   "cell_type": "code",
   "execution_count": 42,
   "metadata": {},
   "outputs": [
    {
     "name": "stdout",
     "output_type": "stream",
     "text": [
      "Model score: 0.955193482688\n",
      "             precision    recall  f1-score   support\n",
      "\n",
      "          0       0.75      0.55      0.64        38\n",
      "          1       0.82      0.92      0.87        85\n",
      "\n",
      "avg / total       0.80      0.80      0.80       123\n",
      "\n",
      "CV_auc:[ 0.80090498  0.65248869  0.75626566  0.80764411  0.73057644]\n",
      "Mean CV_auc: 0.749575976139\n",
      "CV_accuracy:[ 0.75806452  0.74193548  0.78688525  0.81147541  0.78688525]\n",
      "Mean CV_accuracy: 0.777049180328\n"
     ]
    }
   ],
   "source": [
    "from sklearn.ensemble import AdaBoostClassifier\n",
    "\n",
    "\n",
    "clf = AdaBoostClassifier(n_estimators = 50, base_estimator= rf, learning_rate = 0.5, random_state=2)\n",
    "modelfit(clf)"
   ]
  },
  {
   "cell_type": "markdown",
   "metadata": {},
   "source": [
    "Not bad! The recall score of class 0 has gone up to 0.55, and oevrall f1-score is at its best value of 0.80. However mean CV scores have suffered by a percent or two. "
   ]
  },
  {
   "cell_type": "markdown",
   "metadata": {},
   "source": [
    "# Neural Networks\n",
    "\n",
    "We know that neural networks are much better at figuring out nonlinear decision boundaries than Logistic Regression. So why not try one out to see if we can improve the fit. Instead of using some package, I will build a neural net with one hidden layer (and momentum optimization) by hand just for fun (and pratice). If you are bored you may gloss over the details until we come to the output part."
   ]
  },
  {
   "cell_type": "markdown",
   "metadata": {},
   "source": [
    "For the technically minded, we are going to use He Initialization and Batch Gradient Descent. Our default option will use Momentum Optimization. But we can use ADAM optimization if we want. (With our dataset, I found that ADAM to be converging too fast, and a bit hard to control with parameter tuning.)"
   ]
  },
  {
   "cell_type": "markdown",
   "metadata": {},
   "source": [
    "# Constructing the 2 layer nn"
   ]
  },
  {
   "cell_type": "code",
   "execution_count": 38,
   "metadata": {},
   "outputs": [],
   "source": [
    "# Function: sigmoid(). Turns a matrix \"z\" of real numbers into a matrix \"a\" of probabilities \n",
    "\n",
    "def sigmoid(z):\n",
    "    s=1/(1+np.exp(-z))\n",
    "    return s"
   ]
  },
  {
   "cell_type": "code",
   "execution_count": 39,
   "metadata": {},
   "outputs": [],
   "source": [
    "# Function: initialize_parameters\n",
    "\n",
    "def initialize_parameters(n_x, n_h):\n",
    "    \"\"\"\n",
    "    Argument:\n",
    "    n_x -- size of the input layer\n",
    "    n_h -- size of the hidden layer\n",
    "   \n",
    "    \n",
    "    Returns:\n",
    "    parameters -- python dictionary containing the parameters:\n",
    "                    W1 -- weight matrix of shape (n_h, n_x)\n",
    "                    b1 -- bias vector of shape (n_h, 1)\n",
    "                    W2 -- weight matrix of shape (1, n_h)\n",
    "                    b2 -- bias vector of shape (1, 1)\n",
    "    \"\"\"\n",
    "    \n",
    "    np.random.seed(2) # we set up a seed so that your output matches ours although the initialization is random.\n",
    "    \n",
    "    \n",
    "    W1 = np.random.randn(n_h, n_x) * np.sqrt(2/n_x)\n",
    "    b1 = np.zeros((n_h, 1))\n",
    "    W2 = np.random.randn(1, n_h) * np.sqrt(2/n_h)\n",
    "    b2 = np.zeros((1, 1))\n",
    "   \n",
    "    \n",
    "    \n",
    "    parameters = {\"W1\": W1, \"b1\": b1, \"W2\": W2,  \"b2\": b2}\n",
    "                  \n",
    "\n",
    "    return parameters\n",
    "\n"
   ]
  },
  {
   "cell_type": "code",
   "execution_count": 40,
   "metadata": {},
   "outputs": [],
   "source": [
    "# FUNCTION: initialize_moments\n",
    "\n",
    "\"\"\" \n",
    "Argument:\n",
    "none\n",
    "\n",
    "Returns: \n",
    "Initialized moving averages of gradients VdWi, Vdbi, i=1,2.\n",
    "\n",
    "\"\"\"\n",
    "\n",
    "def initialize_moments():\n",
    "    VdW1 =0\n",
    "    Vdb1 =0\n",
    "    VdW2 =0\n",
    "    Vdb2 =0\n",
    "    \n",
    "    moments = {\"VdW1\": VdW1,  \"Vdb1\": Vdb1,  \"VdW2\": VdW2, \"Vdb2\": Vdb2}            \n",
    "    \n",
    "    return moments\n",
    "    "
   ]
  },
  {
   "cell_type": "code",
   "execution_count": 41,
   "metadata": {},
   "outputs": [],
   "source": [
    "# FUNCTION: initialize_S\n",
    "# initializes RMS parameters\n",
    "\n",
    "\"\"\" \n",
    "Argument:\n",
    "none\n",
    "\n",
    "Returns: \n",
    "Initialized moving averages of RMS parameters SdWi, Sdbi, i=1,2.\n",
    "\n",
    "\"\"\"\n",
    "\n",
    "def initialize_S():\n",
    "    SdW1 =0\n",
    "    Sdb1 =0\n",
    "    SdW2 =0\n",
    "    Sdb2 =0\n",
    "    \n",
    "    S = {\"SdW1\": SdW1,  \"Sdb1\": Sdb1,  \"SdW2\": SdW2, \"Sdb2\": Sdb2}            \n",
    "    \n",
    "    return S\n",
    "    "
   ]
  },
  {
   "cell_type": "code",
   "execution_count": 42,
   "metadata": {},
   "outputs": [],
   "source": [
    "#  Function: forward_propagation\n",
    "\n",
    "def forward_propagation(X, parameters):\n",
    "    \"\"\"\n",
    "    Argument:\n",
    "    X -- input data of size (n_x, m) where m equals the number of examples\n",
    "    parameters -- python dictionary containing the parameters Wi, bi\n",
    "    \n",
    "    Returns:\n",
    "    A2 -- The sigmoid output of the second activation\n",
    "    cache -- a dictionary containing \"Z1\", \"A1\", \"Z2\" and \"A2\"\n",
    "    \"\"\"\n",
    "    # Retrieve each parameter from the dictionary \"parameters\"\n",
    "    W1 = parameters[\"W1\"]\n",
    "    b1 = parameters[\"b1\"]\n",
    "    W2 = parameters[\"W2\"]\n",
    "    b2 = parameters[\"b2\"]\n",
    "   \n",
    "    \n",
    "    \n",
    "    # Python Broadcasting is somehow not working properly on my Jupiter kernel. So need to do by hand.\n",
    "    B1 = np.zeros(b1.shape)\n",
    "    for i in range(b1.shape[1]):\n",
    "        B1[:, i] = np.squeeze(b1)\n",
    "    B2 = np.zeros(b2.shape)\n",
    "    for i in range(b1.shape[1]):\n",
    "        B2[:, i] = np.squeeze(b2) \n",
    "    \n",
    "    \n",
    "    # Implement Forward Propagation to calculate A2 (probabilities)\n",
    "    \n",
    "    T1 = np.dot(W1, X)    \n",
    "    Z1 = T1 + B1\n",
    "    A1 = np.tanh(Z1)\n",
    "    \n",
    "    T2 = np.dot(W2, A1) \n",
    "    Z2 = T2 + B2\n",
    "    A2 = sigmoid(Z2)\n",
    "\n",
    "    \n",
    "    assert(Z1.shape == (W1.shape[0], X.shape[1]))\n",
    "    assert(Z2.shape == (W2.shape[0], X.shape[1]))\n",
    "    assert(A2.shape == (1, X.shape[1]))\n",
    "    \n",
    "    \n",
    "    cache = {\"Z1\": Z1, \"A1\": A1, \"Z2\": Z2, \"A2\": A2}\n",
    "                      \n",
    "    \n",
    "    return A2, cache"
   ]
  },
  {
   "cell_type": "code",
   "execution_count": 43,
   "metadata": {},
   "outputs": [],
   "source": [
    "#  FUNCTION: compute_cost\n",
    "\n",
    "def compute_cost(A2, Y, parameters, lambd = 0):\n",
    "    \"\"\"\n",
    "    Computes the cross-entropy cost given in equation (13)\n",
    "    \n",
    "    Arguments:\n",
    "    A2 -- The sigmoid output of the second activation, of shape (1, number of examples)\n",
    "    Y -- \"true\" labels vector of shape (1, number of examples)\n",
    "    parameters -- python dictionary containing your parameters W1, b1, W2 and b2\n",
    "    \n",
    "    Returns:\n",
    "    cost -- cross-entropy or log-loss cost \n",
    "    \"\"\"\n",
    "\n",
    "    W1 = parameters[\"W1\"]\n",
    "    W2 = parameters[\"W2\"]\n",
    "    \n",
    "    m = Y.shape[1] # number of example\n",
    "\n",
    "    # Compute the cross-entropy cost\n",
    "  \n",
    "    logprobs = np.array([np.multiply(np.log(A2),Y), np.multiply(np.log(1-A2),1-Y)])\n",
    "    cost_entropy = - np.sum(logprobs)/m\n",
    "    cost_regular = (np.sum(np.square(W1)) + np.sum(np.square(W2)) ) * (lambd/(2*m))\n",
    "    cost = cost_entropy + cost_regular\n",
    "   \n",
    "    \n",
    "    cost = np.squeeze(cost)      \n",
    "    \n",
    "    return cost\n"
   ]
  },
  {
   "cell_type": "code",
   "execution_count": 44,
   "metadata": {},
   "outputs": [],
   "source": [
    "#  FUNCTION: backward_propagation\n",
    "\n",
    "def backward_propagation(parameters, cache, X, Y, lambd=0):\n",
    "    \"\"\"\n",
    "    Implement the backward propagation using the instructions above.\n",
    "    \n",
    "    Arguments:\n",
    "    parameters -- python dictionary containing our parameters Wi, bi, i=1,2\n",
    "    cache -- a dictionary containing Zi, Ai,  i=1,2\n",
    "    X -- input data of shape (n_x, number of examples)\n",
    "    Y -- \"true\" labels vector of shape (1, number of examples)\n",
    "    \n",
    "    Returns:\n",
    "    grads -- python dictionary containing gradients Dwi, dbi \n",
    "    \"\"\"\n",
    "    m = X.shape[1]\n",
    "    \n",
    "    \n",
    "    W1 = parameters[\"W1\"]\n",
    "    W2 = parameters[\"W2\"]\n",
    "    \n",
    "    \n",
    "    A1 = cache[\"A1\"]\n",
    "    A2 = cache[\"A2\"]\n",
    "   \n",
    "    \n",
    "    # Backward propagation: calculate dW1, db1, dW2, db2. \n",
    "    \n",
    "    dZ2 = A2-Y\n",
    "    dW2 = (1/m) * np.dot(dZ2, A1.T) + (lambd/m)*W2\n",
    "    db2 = pd.DataFrame((1/m) * np.sum(dZ2, axis=1))\n",
    "   \n",
    "    \n",
    "    dZ1 = np.outer(W2.T, dZ2) * (1 - A1*A1)\n",
    "    dW1 = (1/m) * np.dot(dZ1, X.T) + (lambd/m)*W1 \n",
    "    db1 = pd.DataFrame((1/m) * np.sum(dZ1, axis=1))\n",
    "\n",
    "    \n",
    "    assert (db2.shape == (dZ2.shape[0], 1))\n",
    "    assert (db1.shape == (dZ1.shape[0], 1))\n",
    "    assert (dW1.shape == W1.shape)\n",
    "    assert (dW2.shape == W2.shape)\n",
    "    \n",
    "    grads = {\"dW1\": dW1, \"db1\": db1, \"dW2\": dW2, \"db2\": db2}\n",
    "             \n",
    "\n",
    "    return grads\n"
   ]
  },
  {
   "cell_type": "code",
   "execution_count": 45,
   "metadata": {},
   "outputs": [],
   "source": [
    "# FUNCTION: update_parameters\n",
    "\n",
    "def update_parameters(parameters, grads, moments, learning_rate = 0.5, decay_rate=0.00005, beta=0.9, it_num = 0):\n",
    "    \"\"\"\n",
    "    Updates parameters using the gradient descent with momentum optimization  \n",
    "    \n",
    "    Arguments:\n",
    "    parameters -- python dictionary containing  parameters Wi,bi,  i=1,2\n",
    "    grads -- python dictionary containing gradients dWi, dbi,  i=1,2\n",
    "    moments --- python dictionary containing momentum parameters VdWi, Vdbi,  i=1,2\n",
    "    \n",
    "    Returns:\n",
    "    parameters -- python dictionary containing updated parameters Wi,bi,  i=1,2\n",
    "    moments --- python dictionary containing updated momentum parameters VdWi, Vdbi,  i=1,2\n",
    "    \"\"\"\n",
    "    # Retrieve each parameter from the dictionary \"parameters\"\n",
    "   \n",
    "    W1 = parameters[\"W1\"]\n",
    "    b1 = parameters[\"b1\"]\n",
    "    W2 = parameters[\"W2\"]\n",
    "    b2 = parameters[\"b2\"]\n",
    "    \n",
    "    # Retrive momentum parameters\n",
    "    \n",
    "    VdW1 = moments[\"VdW1\"]\n",
    "    Vdb1 = moments[\"Vdb1\"]\n",
    "    VdW2 = moments[\"VdW2\"]\n",
    "    Vdb2 = moments[\"Vdb2\"]\n",
    "    \n",
    "    \n",
    "    # Retrieve each gradient from the dictionary \"grads\"\n",
    "    \n",
    "    dW1 = grads[\"dW1\"]\n",
    "    db1 = grads[\"db1\"]\n",
    "    dW2 = grads[\"dW2\"]\n",
    "    db2 = grads[\"db2\"]\n",
    "    \n",
    "    #update momentum parameters\n",
    " \n",
    "    \n",
    "    VdW1 = beta * VdW1 + (1-beta) * dW1\n",
    "    Vdb1 = beta * Vdb1 + (1-beta) * db1\n",
    "    VdW2 = beta * VdW2 + (1-beta) * dW2\n",
    "    Vdb2 = beta * Vdb2 + (1-beta) * db2\n",
    "\n",
    "    \n",
    "    # Update rule for each parameter with momentum\n",
    "    \n",
    "    W1 = W1 - (learning_rate / (1+ decay_rate * it_num)) * VdW1\n",
    "    b1 = b1 - (learning_rate / (1+ decay_rate * it_num)) * Vdb1\n",
    "    W2 = W2 - (learning_rate / (1+ decay_rate * it_num)) * VdW2\n",
    "    b2 = b2 - (learning_rate / (1+ decay_rate * it_num)) * Vdb2\n",
    "    \n",
    "    \n",
    "    parameters = {\"W1\": W1, \"b1\": b1,  \"W2\": W2, \"b2\": b2}\n",
    "                  \n",
    "                                   \n",
    "    moments = {\"VdW1\": VdW1, \"Vdb1\": Vdb1,  \"VdW2\": VdW2, \"Vdb2\": Vdb2}\n",
    "               \n",
    "              \n",
    "                   \n",
    "    assert (W1.shape == dW1.shape)\n",
    "    assert (W2.shape == dW2.shape)\n",
    "    assert (b1.shape == db1.shape)\n",
    "    assert (b2.shape == db2.shape)\n",
    "    \n",
    "    return parameters, moments"
   ]
  },
  {
   "cell_type": "code",
   "execution_count": 46,
   "metadata": {},
   "outputs": [],
   "source": [
    "# FUNCTION: update_parameters_ADAM\n",
    "\n",
    "def update_parameters_ADAM(parameters, grads, moments, S, learning_rate = 0.5, decay_rate=0, beta=0.9, beta2 = 0.99, it_num = 0):\n",
    "    \"\"\"\n",
    "    Updates parameters using the gradient descent with ADAM optimization\n",
    "    \n",
    "    Arguments:\n",
    "    parameters -- python dictionary containing  parameters \n",
    "    grads -- python dictionary containing gradients \n",
    "    moments --- python dictionary containing momentum parameters\n",
    "    S-- python dictionary containing RMS parameters\n",
    "    Returns:\n",
    "    parameters -- python dictionary containing updated parameters\n",
    "    moments --- python dictionary containing updated momentum parameters\n",
    "    S --- python dictionary containing updated RMS parameters\n",
    "    \"\"\"\n",
    "    \n",
    "    epsilon = 1e-8\n",
    "  \n",
    "    t = it_num + 1\n",
    "    \n",
    "    # Retrieve each parameter from the dictionary \"parameters\"\n",
    "   \n",
    "    W1 = parameters[\"W1\"]\n",
    "    b1 = parameters[\"b1\"]\n",
    "    W2 = parameters[\"W2\"]\n",
    "    b2 = parameters[\"b2\"]\n",
    "    \n",
    "    # Retrive momentum parameters from dictionary \"moments\"\n",
    "    \n",
    "    VdW1 = moments[\"VdW1\"]\n",
    "    Vdb1 = moments[\"Vdb1\"]\n",
    "    VdW2 = moments[\"VdW2\"]\n",
    "    Vdb2 = moments[\"Vdb2\"]\n",
    "    \n",
    "    # Retrive RMS parameters from dictionary \"S\"\n",
    "    \n",
    "    SdW1 = S[\"SdW1\"]\n",
    "    Sdb1 = S[\"Sdb1\"]\n",
    "    SdW2 = S[\"SdW2\"]\n",
    "    Sdb2 = S[\"Sdb2\"]\n",
    "    \n",
    "    \n",
    "    # Retrieve each gradient from the dictionary \"grads\"\n",
    "    \n",
    "    dW1 = grads[\"dW1\"]\n",
    "    db1 = grads[\"db1\"]\n",
    "    dW2 = grads[\"dW2\"]\n",
    "    db2 = grads[\"db2\"]\n",
    "    \n",
    "    #update momentum parameters\n",
    " \n",
    "    \n",
    "    VdW1 = beta * VdW1 + (1-beta) * dW1\n",
    "    Vdb1 = beta * Vdb1 + (1-beta) * db1\n",
    "    VdW2 = beta * VdW2 + (1-beta) * dW2\n",
    "    Vdb2 = beta * Vdb2 + (1-beta) * db2\n",
    "    \n",
    "    #correct momentum parameters\n",
    "    \n",
    "    VdW1_corr = VdW1/(1 - beta**t)\n",
    "    Vdb1_corr = Vdb1/(1 - beta**t)\n",
    "    VdW2_corr = VdW2/(1 - beta**t)\n",
    "    Vdb2_corr = Vdb2/(1 - beta**t)\n",
    "    \n",
    "    #update RMS parameters\n",
    " \n",
    "    \n",
    "    SdW1 = beta2 * SdW1 + (1-beta2) * dW1**2\n",
    "    Sdb1 = beta2 * Sdb1 + (1-beta2) * db1**2\n",
    "    SdW2 = beta2 * SdW2 + (1-beta2) * dW2**2\n",
    "    Sdb2 = beta2 * Sdb2 + (1-beta2) * db2**2\n",
    "    \n",
    "    #correct RMS parameters\n",
    "    \n",
    "    SdW1_corr = SdW1/(1 - beta2**t)\n",
    "    Sdb1_corr = Sdb1/(1 - beta2**t)\n",
    "    SdW2_corr = SdW2/(1 - beta2**t)\n",
    "    Sdb2_corr = Sdb2/(1 - beta2**t)\n",
    "\n",
    "    \n",
    "    # Update rule for each parameter with ADAM optimization\n",
    "    \n",
    "    W1 = W1 - (learning_rate / (1+ decay_rate * it_num))  * VdW1_corr/(np.sqrt(SdW1_corr) + epsilon)\n",
    "    b1 = b1 - (learning_rate / (1+ decay_rate * it_num)) * Vdb1_corr/(np.sqrt(Sdb1_corr) + epsilon)\n",
    "    W2 = W2 - (learning_rate / (1+ decay_rate * it_num)) * VdW2_corr/(np.sqrt(SdW2_corr) + epsilon)\n",
    "    b2 = b2 - (learning_rate / (1+ decay_rate * it_num)) * Vdb2_corr/(np.sqrt(Sdb2_corr) + epsilon)\n",
    "    \n",
    "    \n",
    "    parameters = {\"W1\": W1,\n",
    "                  \"b1\": b1,\n",
    "                  \"W2\": W2,\n",
    "                  \"b2\": b2}\n",
    "    \n",
    "    moments = {\"VdW1\": VdW1,\n",
    "               \"Vdb1\": Vdb1,\n",
    "               \"VdW2\": VdW2,\n",
    "               \"Vdb2\": Vdb2}\n",
    "    S = {\"SdW1\": SdW1,\n",
    "         \"Sdb1\": Sdb1,\n",
    "         \"SdW2\": SdW2,\n",
    "         \"Sdb2\": Sdb2}\n",
    "     \n",
    "    assert (W1.shape == dW1.shape)\n",
    "    assert (W2.shape == dW2.shape)\n",
    "    assert (b1.shape == db1.shape)\n",
    "    assert (b2.shape == db2.shape)\n",
    "    \n",
    "    return parameters, moments, S"
   ]
  },
  {
   "cell_type": "code",
   "execution_count": 47,
   "metadata": {},
   "outputs": [],
   "source": [
    "# FUNCTION: nn_model\n",
    "\n",
    "def nn_model(X, Y, n_h, num_iterations = 10000, lambd=0, learning_rate=0.5, decay_rate=0.00005, adam=False, print_freq=500, print_cost=False):\n",
    "    \"\"\"\n",
    "    Arguments:\n",
    "    X -- dataset of shape (number of attributes, number of examples)\n",
    "    Y -- labels of shape (1, number of examples)\n",
    "    n_h -- size of the hidden layer\n",
    "    num_iterations -- Number of iterations in gradient descent loop\n",
    "    print_cost -- if True, print the cost every print_freq number of iterations\n",
    "    \n",
    "    Returns:\n",
    "    parameters -- parameters learnt by the model. They can then be used to predict.\n",
    "    \"\"\"\n",
    "    \n",
    "    np.random.seed(2)\n",
    "    n_x = X.shape[0]\n",
    "    n_y = Y.shape[0]\n",
    "    \n",
    "    # Initialize parameters.\n",
    "    parameters = initialize_parameters(n_x, n_h)\n",
    "\n",
    " \n",
    "    # Initialize momentum parameters\n",
    "    moments = initialize_moments()\n",
    "    S = initialize_S()\n",
    "    \n",
    "    \n",
    "    # Loop (gradient descent)\n",
    "\n",
    "    for i in range(0, num_iterations):\n",
    "         \n",
    "        \n",
    "        # Forward propagation. Inputs: \"X, parameters\". Outputs: \"A2, cache\".\n",
    "        A2, cache = forward_propagation(X, parameters)\n",
    "        \n",
    "\n",
    "        # Cost function. Inputs: \"A2, Y, parameters\". Outputs: \"cost\".\n",
    "        cost = compute_cost(A2, Y, parameters, lambd)\n",
    " \n",
    "\n",
    "        # Backpropagation. Inputs: \"parameters, cache, X, Y\". Outputs: \"grads\".\n",
    "        grads = backward_propagation(parameters, cache, X, Y, lambd)\n",
    "        \n",
    "        # Gradient descent parameter update. Inputs: \"parameters, grads\". Outputs: \"parameters\".\n",
    "        \n",
    "        if adam:\n",
    "             parameters, moments, S = update_parameters_ADAM(parameters, grads, moments, S, learning_rate, decay_rate, it_num = i )\n",
    "        else: \n",
    "            parameters, moments = update_parameters(parameters, grads, moments, learning_rate, decay_rate, it_num = i )\n",
    "        \n",
    "        \n",
    "        \n",
    "        # Print the cost every print_freq iterations\n",
    "        if print_cost and i % print_freq == 0:\n",
    "            print (\"Cross-entropy cost after iteration %i: %f\" %(i, cost))\n",
    "\n",
    "    return parameters\n",
    "\n"
   ]
  },
  {
   "cell_type": "markdown",
   "metadata": {},
   "source": [
    "# Applying 2 layer nn with 15 nodes, momentum optimization"
   ]
  },
  {
   "cell_type": "code",
   "execution_count": 48,
   "metadata": {},
   "outputs": [
    {
     "name": "stdout",
     "output_type": "stream",
     "text": [
      "(16, 491)\n",
      "(1, 491)\n"
     ]
    }
   ],
   "source": [
    "X_train,X_test,Y_train,Y_test = train_test_split(X_scaled, Y, stratify= Y, test_size=0.2, random_state = 2)\n",
    "\n",
    "X_train_transpose = X_train.T\n",
    "Y_train_transpose = (pd.DataFrame(Y_train)).T\n",
    "\n",
    "X_test_transpose = X_test.T\n",
    "Y_test_transpose = (pd.DataFrame(Y_test)).T\n",
    "\n",
    "print(X_train_transpose.shape)\n",
    "print(Y_train_transpose.shape)"
   ]
  },
  {
   "cell_type": "code",
   "execution_count": 49,
   "metadata": {
    "scrolled": true
   },
   "outputs": [
    {
     "name": "stdout",
     "output_type": "stream",
     "text": [
      "Cross-entropy cost after iteration 0: 0.590336\n",
      "Cross-entropy cost after iteration 500: 0.505549\n",
      "Cross-entropy cost after iteration 1000: 0.436322\n",
      "Cross-entropy cost after iteration 1500: 0.384843\n",
      "Cross-entropy cost after iteration 2000: 0.347566\n",
      "Cross-entropy cost after iteration 2500: 0.320870\n",
      "Cross-entropy cost after iteration 3000: 0.301962\n",
      "Cross-entropy cost after iteration 3500: 0.288810\n",
      "Cross-entropy cost after iteration 4000: 0.279942\n",
      "Cross-entropy cost after iteration 4500: 0.274274\n",
      "Cross-entropy cost after iteration 5000: 0.270999\n",
      "Cross-entropy cost after iteration 5500: 0.269499\n",
      "Cross-entropy cost after iteration 6000: 0.269301\n"
     ]
    }
   ],
   "source": [
    "params = nn_model(X_train_transpose, Y_train_transpose, n_h = 15, num_iterations = 6001, lambd=0.01, learning_rate=0.002, decay_rate=0.00005, print_cost=True)\n"
   ]
  },
  {
   "cell_type": "code",
   "execution_count": 50,
   "metadata": {},
   "outputs": [],
   "source": [
    "#  FUNCTION: predict\n",
    "\n",
    "def predict(parameters, X):\n",
    "    \"\"\"\n",
    "    Using the learned parameters, predicts a class for each example in X\n",
    "    \n",
    "    Arguments:\n",
    "    parameters -- python dictionary containing your parameters \n",
    "    X -- input data of size (n_x, m)\n",
    "    \n",
    "    Returns\n",
    "    predictions -- vector of predictions of our model (red: 0 / blue: 1)\n",
    "    \"\"\"\n",
    "    \n",
    "    # Computes probabilities using forward propagation, and classifies to 0/1 using 0.5 as the threshold.\n",
    "    \n",
    "    A2, cache = forward_propagation(X, parameters)\n",
    "    predictions = (A2 > 0.5)\n",
    "    \n",
    "    \n",
    "    return predictions, A2"
   ]
  },
  {
   "cell_type": "code",
   "execution_count": 51,
   "metadata": {},
   "outputs": [
    {
     "name": "stdout",
     "output_type": "stream",
     "text": [
      "Accuracy: 80%\n"
     ]
    }
   ],
   "source": [
    "# Print accuracy\n",
    "predictions, A2 = predict(params, X_train_transpose)\n",
    "print ('Accuracy: %d' % float((np.dot(Y_train, predictions.T) \n",
    "                               + np.dot(1-Y_train,1-predictions.T))/float(Y_train.size)*100) + '%')"
   ]
  },
  {
   "cell_type": "code",
   "execution_count": 52,
   "metadata": {},
   "outputs": [
    {
     "name": "stdout",
     "output_type": "stream",
     "text": [
      "Accuracy on test set: 80%\n"
     ]
    }
   ],
   "source": [
    "predictions, A2 = predict(params, X_test_transpose)\n",
    "print ('Accuracy on test set: %d' % float((np.dot(Y_test.T, predictions.T)\n",
    "                                           + np.dot((1-Y_test).T, (1-predictions).T)\n",
    "                                          )/float(Y_test.size)*100) + '%')"
   ]
  },
  {
   "cell_type": "code",
   "execution_count": 53,
   "metadata": {},
   "outputs": [
    {
     "name": "stdout",
     "output_type": "stream",
     "text": [
      "0.475873580788\n"
     ]
    }
   ],
   "source": [
    "\n",
    "logprobs = (np.multiply(np.log(A2),Y_test_transpose) + np.multiply(np.log(1-A2),1-Y_test_transpose) ).values\n",
    "cost_entropy = - np.sum(logprobs)/123\n",
    "print(cost_entropy)\n",
    "    "
   ]
  },
  {
   "cell_type": "code",
   "execution_count": 54,
   "metadata": {},
   "outputs": [
    {
     "name": "stdout",
     "output_type": "stream",
     "text": [
      "             precision    recall  f1-score   support\n",
      "\n",
      "          0       0.85      0.45      0.59        38\n",
      "          1       0.80      0.96      0.87        85\n",
      "\n",
      "avg / total       0.81      0.80      0.78       123\n",
      "\n"
     ]
    }
   ],
   "source": [
    "print(classification_report(Y_test, predictions.T))"
   ]
  },
  {
   "cell_type": "markdown",
   "metadata": {},
   "source": [
    "We do not see any improvement in results over Logistic Regresssion. In fact, I trained a 3 layer neural net (2 hiddden layers), but to no avail. \n",
    "\n",
    "It is possible that nonlinearity of decision boundary is not the main problem. Probably it is a noisy boundary, resulting in a bias towards the more frequent label 1, (as we noted from the low recall score for the label 0)."
   ]
  },
  {
   "cell_type": "markdown",
   "metadata": {},
   "source": [
    "# Balancing by Random sampling"
   ]
  },
  {
   "cell_type": "markdown",
   "metadata": {},
   "source": [
    "We split the data (the dataframe df) into a test set(df_test) and train set(df_train) of size 80% and 20% respectively at random. \n",
    "\n",
    "Then we split the train set into subsets df_train_pos and df_train_neg, according to label of the Loan_Status (positive for 1, and negative for 0).\n",
    "\n",
    "From each subset, we create a dataset of 2000 replicates, by random sampling with replacement. We merge them into a \n",
    "dataset df_rep of 4000 observations and permute the observations to get df_pmt. "
   ]
  },
  {
   "cell_type": "markdown",
   "metadata": {},
   "source": [
    "We merge df_pmt and df_test to a frame df_pmt_aug. After dropping the Loan_Status column, we scale the data. We then split off the train and test parts again. "
   ]
  },
  {
   "cell_type": "markdown",
   "metadata": {},
   "source": [
    "We feed the scaled test data to the neural net with one hidden layer that we built earlier. We run the net with ADAM optimization first an then with Momentum optimization."
   ]
  },
  {
   "cell_type": "markdown",
   "metadata": {},
   "source": [
    "The latter gives an arguably better performance compared to AdaBoost."
   ]
  },
  {
   "cell_type": "code",
   "execution_count": 55,
   "metadata": {},
   "outputs": [
    {
     "data": {
      "text/html": [
       "<div>\n",
       "<style scoped>\n",
       "    .dataframe tbody tr th:only-of-type {\n",
       "        vertical-align: middle;\n",
       "    }\n",
       "\n",
       "    .dataframe tbody tr th {\n",
       "        vertical-align: top;\n",
       "    }\n",
       "\n",
       "    .dataframe thead th {\n",
       "        text-align: right;\n",
       "    }\n",
       "</style>\n",
       "<table border=\"1\" class=\"dataframe\">\n",
       "  <thead>\n",
       "    <tr style=\"text-align: right;\">\n",
       "      <th></th>\n",
       "      <th>Loan_ID</th>\n",
       "      <th>Gender</th>\n",
       "      <th>Married</th>\n",
       "      <th>Dependents</th>\n",
       "      <th>Education</th>\n",
       "      <th>Self_Employed</th>\n",
       "      <th>ApplicantIncome</th>\n",
       "      <th>CoapplicantIncome</th>\n",
       "      <th>LoanAmount</th>\n",
       "      <th>Loan_Amount_Term</th>\n",
       "      <th>...</th>\n",
       "      <th>AI_log</th>\n",
       "      <th>CAI_log</th>\n",
       "      <th>LA_log</th>\n",
       "      <th>TotalIncome</th>\n",
       "      <th>LA_LAT_ratio</th>\n",
       "      <th>AI_D_ratio</th>\n",
       "      <th>TI_D_ratio</th>\n",
       "      <th>TI_log</th>\n",
       "      <th>AI_D_ratio_log</th>\n",
       "      <th>TI_D_ratio_log</th>\n",
       "    </tr>\n",
       "  </thead>\n",
       "  <tbody>\n",
       "    <tr>\n",
       "      <th>0</th>\n",
       "      <td>LP001002</td>\n",
       "      <td>1</td>\n",
       "      <td>0</td>\n",
       "      <td>0</td>\n",
       "      <td>0</td>\n",
       "      <td>0</td>\n",
       "      <td>5849</td>\n",
       "      <td>0.0</td>\n",
       "      <td>128.0</td>\n",
       "      <td>360.0</td>\n",
       "      <td>...</td>\n",
       "      <td>8.674197</td>\n",
       "      <td>0.000000</td>\n",
       "      <td>4.852030</td>\n",
       "      <td>5849.0</td>\n",
       "      <td>0.355556</td>\n",
       "      <td>5849.0</td>\n",
       "      <td>5849.0</td>\n",
       "      <td>8.674026</td>\n",
       "      <td>8.674026</td>\n",
       "      <td>8.674026</td>\n",
       "    </tr>\n",
       "    <tr>\n",
       "      <th>1</th>\n",
       "      <td>LP001003</td>\n",
       "      <td>1</td>\n",
       "      <td>1</td>\n",
       "      <td>1</td>\n",
       "      <td>0</td>\n",
       "      <td>0</td>\n",
       "      <td>4583</td>\n",
       "      <td>1508.0</td>\n",
       "      <td>128.0</td>\n",
       "      <td>360.0</td>\n",
       "      <td>...</td>\n",
       "      <td>8.430327</td>\n",
       "      <td>7.319202</td>\n",
       "      <td>4.852030</td>\n",
       "      <td>6091.0</td>\n",
       "      <td>0.355556</td>\n",
       "      <td>2291.5</td>\n",
       "      <td>3045.5</td>\n",
       "      <td>8.714568</td>\n",
       "      <td>7.736962</td>\n",
       "      <td>8.021420</td>\n",
       "    </tr>\n",
       "    <tr>\n",
       "      <th>2</th>\n",
       "      <td>LP001005</td>\n",
       "      <td>1</td>\n",
       "      <td>1</td>\n",
       "      <td>0</td>\n",
       "      <td>0</td>\n",
       "      <td>1</td>\n",
       "      <td>3000</td>\n",
       "      <td>0.0</td>\n",
       "      <td>66.0</td>\n",
       "      <td>360.0</td>\n",
       "      <td>...</td>\n",
       "      <td>8.006701</td>\n",
       "      <td>0.000000</td>\n",
       "      <td>4.189655</td>\n",
       "      <td>3000.0</td>\n",
       "      <td>0.183333</td>\n",
       "      <td>3000.0</td>\n",
       "      <td>3000.0</td>\n",
       "      <td>8.006368</td>\n",
       "      <td>8.006368</td>\n",
       "      <td>8.006368</td>\n",
       "    </tr>\n",
       "  </tbody>\n",
       "</table>\n",
       "<p>3 rows × 24 columns</p>\n",
       "</div>"
      ],
      "text/plain": [
       "    Loan_ID  Gender  Married  Dependents  Education  Self_Employed  \\\n",
       "0  LP001002       1        0           0          0              0   \n",
       "1  LP001003       1        1           1          0              0   \n",
       "2  LP001005       1        1           0          0              1   \n",
       "\n",
       "   ApplicantIncome  CoapplicantIncome  LoanAmount  Loan_Amount_Term  \\\n",
       "0             5849                0.0       128.0             360.0   \n",
       "1             4583             1508.0       128.0             360.0   \n",
       "2             3000                0.0        66.0             360.0   \n",
       "\n",
       "        ...          AI_log   CAI_log    LA_log  TotalIncome  LA_LAT_ratio  \\\n",
       "0       ...        8.674197  0.000000  4.852030       5849.0      0.355556   \n",
       "1       ...        8.430327  7.319202  4.852030       6091.0      0.355556   \n",
       "2       ...        8.006701  0.000000  4.189655       3000.0      0.183333   \n",
       "\n",
       "   AI_D_ratio  TI_D_ratio    TI_log  AI_D_ratio_log  TI_D_ratio_log  \n",
       "0      5849.0      5849.0  8.674026        8.674026        8.674026  \n",
       "1      2291.5      3045.5  8.714568        7.736962        8.021420  \n",
       "2      3000.0      3000.0  8.006368        8.006368        8.006368  \n",
       "\n",
       "[3 rows x 24 columns]"
      ]
     },
     "execution_count": 55,
     "metadata": {},
     "output_type": "execute_result"
    }
   ],
   "source": [
    "np.random.seed(21)\n",
    "\n",
    "obs = np.arange(0,614)\n",
    "obs_permut = np.random.permutation(obs)\n",
    "obs_permut_train = obs_permut[0 : 491]\n",
    "obs_permut_test = obs_permut[491 : ]\n",
    "\n",
    "df.head(3)"
   ]
  },
  {
   "cell_type": "code",
   "execution_count": 56,
   "metadata": {},
   "outputs": [
    {
     "data": {
      "text/plain": [
       "(614, 17)"
      ]
     },
     "execution_count": 56,
     "metadata": {},
     "output_type": "execute_result"
    }
   ],
   "source": [
    "drop = ['Loan_ID','ApplicantIncome', 'CoapplicantIncome', 'LoanAmount', 'TotalIncome', 'AI_D_ratio', 'TI_D_ratio']\n",
    "\n",
    "df_dr=df.drop(drop , axis=1)\n",
    "\n",
    "df_dr.shape"
   ]
  },
  {
   "cell_type": "code",
   "execution_count": 57,
   "metadata": {},
   "outputs": [],
   "source": [
    "df_train = pd.DataFrame(np.zeros((491, 17)), columns = df_dr.columns )\n",
    "\n",
    "df_test = pd.DataFrame(np.zeros((123, 17)), columns = df_dr.columns )\n",
    "\n",
    "\n",
    "for i in range(491):\n",
    "    df_train.iloc[i, :] = df_dr.iloc[obs_permut_train[i], :]\n",
    "    \n",
    "for i in range(123):\n",
    "    df_test.iloc[i, :] = df_dr.iloc[obs_permut_test[i], :]\n",
    "\n"
   ]
  },
  {
   "cell_type": "code",
   "execution_count": 58,
   "metadata": {},
   "outputs": [
    {
     "data": {
      "text/html": [
       "<div>\n",
       "<style scoped>\n",
       "    .dataframe tbody tr th:only-of-type {\n",
       "        vertical-align: middle;\n",
       "    }\n",
       "\n",
       "    .dataframe tbody tr th {\n",
       "        vertical-align: top;\n",
       "    }\n",
       "\n",
       "    .dataframe thead th {\n",
       "        text-align: right;\n",
       "    }\n",
       "</style>\n",
       "<table border=\"1\" class=\"dataframe\">\n",
       "  <thead>\n",
       "    <tr style=\"text-align: right;\">\n",
       "      <th></th>\n",
       "      <th>Gender</th>\n",
       "      <th>Married</th>\n",
       "      <th>Dependents</th>\n",
       "      <th>Education</th>\n",
       "      <th>Self_Employed</th>\n",
       "      <th>Loan_Amount_Term</th>\n",
       "      <th>Credit_History</th>\n",
       "      <th>Loan_Status</th>\n",
       "      <th>Property_Area_Rural</th>\n",
       "      <th>Property_Area_Urban</th>\n",
       "      <th>AI_log</th>\n",
       "      <th>CAI_log</th>\n",
       "      <th>LA_log</th>\n",
       "      <th>LA_LAT_ratio</th>\n",
       "      <th>TI_log</th>\n",
       "      <th>AI_D_ratio_log</th>\n",
       "      <th>TI_D_ratio_log</th>\n",
       "    </tr>\n",
       "  </thead>\n",
       "  <tbody>\n",
       "    <tr>\n",
       "      <th>0</th>\n",
       "      <td>1.0</td>\n",
       "      <td>1.0</td>\n",
       "      <td>0.0</td>\n",
       "      <td>0.0</td>\n",
       "      <td>0.0</td>\n",
       "      <td>360.0</td>\n",
       "      <td>0.0</td>\n",
       "      <td>0.0</td>\n",
       "      <td>1.0</td>\n",
       "      <td>0.0</td>\n",
       "      <td>8.281218</td>\n",
       "      <td>7.458186</td>\n",
       "      <td>5.003946</td>\n",
       "      <td>0.413889</td>\n",
       "      <td>8.644883</td>\n",
       "      <td>8.280964</td>\n",
       "      <td>8.644883</td>\n",
       "    </tr>\n",
       "    <tr>\n",
       "      <th>1</th>\n",
       "      <td>1.0</td>\n",
       "      <td>1.0</td>\n",
       "      <td>3.0</td>\n",
       "      <td>0.0</td>\n",
       "      <td>0.0</td>\n",
       "      <td>360.0</td>\n",
       "      <td>1.0</td>\n",
       "      <td>1.0</td>\n",
       "      <td>1.0</td>\n",
       "      <td>0.0</td>\n",
       "      <td>9.159573</td>\n",
       "      <td>0.000000</td>\n",
       "      <td>5.616771</td>\n",
       "      <td>0.763889</td>\n",
       "      <td>9.159468</td>\n",
       "      <td>7.773174</td>\n",
       "      <td>7.773174</td>\n",
       "    </tr>\n",
       "    <tr>\n",
       "      <th>2</th>\n",
       "      <td>1.0</td>\n",
       "      <td>0.0</td>\n",
       "      <td>0.0</td>\n",
       "      <td>1.0</td>\n",
       "      <td>0.0</td>\n",
       "      <td>360.0</td>\n",
       "      <td>1.0</td>\n",
       "      <td>1.0</td>\n",
       "      <td>0.0</td>\n",
       "      <td>0.0</td>\n",
       "      <td>8.822322</td>\n",
       "      <td>0.000000</td>\n",
       "      <td>4.867534</td>\n",
       "      <td>0.361111</td>\n",
       "      <td>8.822175</td>\n",
       "      <td>8.822175</td>\n",
       "      <td>8.822175</td>\n",
       "    </tr>\n",
       "  </tbody>\n",
       "</table>\n",
       "</div>"
      ],
      "text/plain": [
       "   Gender  Married  Dependents  Education  Self_Employed  Loan_Amount_Term  \\\n",
       "0     1.0      1.0         0.0        0.0            0.0             360.0   \n",
       "1     1.0      1.0         3.0        0.0            0.0             360.0   \n",
       "2     1.0      0.0         0.0        1.0            0.0             360.0   \n",
       "\n",
       "   Credit_History  Loan_Status  Property_Area_Rural  Property_Area_Urban  \\\n",
       "0             0.0          0.0                  1.0                  0.0   \n",
       "1             1.0          1.0                  1.0                  0.0   \n",
       "2             1.0          1.0                  0.0                  0.0   \n",
       "\n",
       "     AI_log   CAI_log    LA_log  LA_LAT_ratio    TI_log  AI_D_ratio_log  \\\n",
       "0  8.281218  7.458186  5.003946      0.413889  8.644883        8.280964   \n",
       "1  9.159573  0.000000  5.616771      0.763889  9.159468        7.773174   \n",
       "2  8.822322  0.000000  4.867534      0.361111  8.822175        8.822175   \n",
       "\n",
       "   TI_D_ratio_log  \n",
       "0        8.644883  \n",
       "1        7.773174  \n",
       "2        8.822175  "
      ]
     },
     "execution_count": 58,
     "metadata": {},
     "output_type": "execute_result"
    }
   ],
   "source": [
    "df_train.head(3)\n",
    "\n"
   ]
  },
  {
   "cell_type": "code",
   "execution_count": 59,
   "metadata": {},
   "outputs": [
    {
     "data": {
      "text/html": [
       "<div>\n",
       "<style scoped>\n",
       "    .dataframe tbody tr th:only-of-type {\n",
       "        vertical-align: middle;\n",
       "    }\n",
       "\n",
       "    .dataframe tbody tr th {\n",
       "        vertical-align: top;\n",
       "    }\n",
       "\n",
       "    .dataframe thead th {\n",
       "        text-align: right;\n",
       "    }\n",
       "</style>\n",
       "<table border=\"1\" class=\"dataframe\">\n",
       "  <thead>\n",
       "    <tr style=\"text-align: right;\">\n",
       "      <th></th>\n",
       "      <th>Gender</th>\n",
       "      <th>Married</th>\n",
       "      <th>Dependents</th>\n",
       "      <th>Education</th>\n",
       "      <th>Self_Employed</th>\n",
       "      <th>Loan_Amount_Term</th>\n",
       "      <th>Credit_History</th>\n",
       "      <th>Loan_Status</th>\n",
       "      <th>Property_Area_Rural</th>\n",
       "      <th>Property_Area_Urban</th>\n",
       "      <th>AI_log</th>\n",
       "      <th>CAI_log</th>\n",
       "      <th>LA_log</th>\n",
       "      <th>LA_LAT_ratio</th>\n",
       "      <th>TI_log</th>\n",
       "      <th>AI_D_ratio_log</th>\n",
       "      <th>TI_D_ratio_log</th>\n",
       "    </tr>\n",
       "  </thead>\n",
       "  <tbody>\n",
       "    <tr>\n",
       "      <th>118</th>\n",
       "      <td>1.0</td>\n",
       "      <td>1.0</td>\n",
       "      <td>0.0</td>\n",
       "      <td>0.0</td>\n",
       "      <td>0.0</td>\n",
       "      <td>360.0</td>\n",
       "      <td>1.0</td>\n",
       "      <td>1.0</td>\n",
       "      <td>0.0</td>\n",
       "      <td>0.0</td>\n",
       "      <td>8.085487</td>\n",
       "      <td>7.257003</td>\n",
       "      <td>4.927254</td>\n",
       "      <td>0.383333</td>\n",
       "      <td>8.447414</td>\n",
       "      <td>8.085179</td>\n",
       "      <td>8.447414</td>\n",
       "    </tr>\n",
       "    <tr>\n",
       "      <th>119</th>\n",
       "      <td>1.0</td>\n",
       "      <td>1.0</td>\n",
       "      <td>0.0</td>\n",
       "      <td>0.0</td>\n",
       "      <td>0.0</td>\n",
       "      <td>360.0</td>\n",
       "      <td>1.0</td>\n",
       "      <td>1.0</td>\n",
       "      <td>1.0</td>\n",
       "      <td>0.0</td>\n",
       "      <td>8.642592</td>\n",
       "      <td>7.889084</td>\n",
       "      <td>5.192957</td>\n",
       "      <td>0.500000</td>\n",
       "      <td>9.028099</td>\n",
       "      <td>8.642415</td>\n",
       "      <td>9.028099</td>\n",
       "    </tr>\n",
       "    <tr>\n",
       "      <th>120</th>\n",
       "      <td>1.0</td>\n",
       "      <td>1.0</td>\n",
       "      <td>1.0</td>\n",
       "      <td>0.0</td>\n",
       "      <td>0.0</td>\n",
       "      <td>360.0</td>\n",
       "      <td>1.0</td>\n",
       "      <td>1.0</td>\n",
       "      <td>0.0</td>\n",
       "      <td>0.0</td>\n",
       "      <td>8.752423</td>\n",
       "      <td>0.000000</td>\n",
       "      <td>5.164786</td>\n",
       "      <td>0.486111</td>\n",
       "      <td>8.752265</td>\n",
       "      <td>8.059118</td>\n",
       "      <td>8.059118</td>\n",
       "    </tr>\n",
       "    <tr>\n",
       "      <th>121</th>\n",
       "      <td>0.0</td>\n",
       "      <td>1.0</td>\n",
       "      <td>0.0</td>\n",
       "      <td>0.0</td>\n",
       "      <td>0.0</td>\n",
       "      <td>360.0</td>\n",
       "      <td>0.0</td>\n",
       "      <td>0.0</td>\n",
       "      <td>0.0</td>\n",
       "      <td>1.0</td>\n",
       "      <td>7.880804</td>\n",
       "      <td>8.143517</td>\n",
       "      <td>4.787492</td>\n",
       "      <td>0.333333</td>\n",
       "      <td>8.713582</td>\n",
       "      <td>7.880426</td>\n",
       "      <td>8.713582</td>\n",
       "    </tr>\n",
       "    <tr>\n",
       "      <th>122</th>\n",
       "      <td>1.0</td>\n",
       "      <td>0.0</td>\n",
       "      <td>0.0</td>\n",
       "      <td>1.0</td>\n",
       "      <td>0.0</td>\n",
       "      <td>360.0</td>\n",
       "      <td>1.0</td>\n",
       "      <td>1.0</td>\n",
       "      <td>1.0</td>\n",
       "      <td>0.0</td>\n",
       "      <td>8.288032</td>\n",
       "      <td>7.836765</td>\n",
       "      <td>4.007333</td>\n",
       "      <td>0.152778</td>\n",
       "      <td>8.780480</td>\n",
       "      <td>8.287780</td>\n",
       "      <td>8.780480</td>\n",
       "    </tr>\n",
       "  </tbody>\n",
       "</table>\n",
       "</div>"
      ],
      "text/plain": [
       "     Gender  Married  Dependents  Education  Self_Employed  Loan_Amount_Term  \\\n",
       "118     1.0      1.0         0.0        0.0            0.0             360.0   \n",
       "119     1.0      1.0         0.0        0.0            0.0             360.0   \n",
       "120     1.0      1.0         1.0        0.0            0.0             360.0   \n",
       "121     0.0      1.0         0.0        0.0            0.0             360.0   \n",
       "122     1.0      0.0         0.0        1.0            0.0             360.0   \n",
       "\n",
       "     Credit_History  Loan_Status  Property_Area_Rural  Property_Area_Urban  \\\n",
       "118             1.0          1.0                  0.0                  0.0   \n",
       "119             1.0          1.0                  1.0                  0.0   \n",
       "120             1.0          1.0                  0.0                  0.0   \n",
       "121             0.0          0.0                  0.0                  1.0   \n",
       "122             1.0          1.0                  1.0                  0.0   \n",
       "\n",
       "       AI_log   CAI_log    LA_log  LA_LAT_ratio    TI_log  AI_D_ratio_log  \\\n",
       "118  8.085487  7.257003  4.927254      0.383333  8.447414        8.085179   \n",
       "119  8.642592  7.889084  5.192957      0.500000  9.028099        8.642415   \n",
       "120  8.752423  0.000000  5.164786      0.486111  8.752265        8.059118   \n",
       "121  7.880804  8.143517  4.787492      0.333333  8.713582        7.880426   \n",
       "122  8.288032  7.836765  4.007333      0.152778  8.780480        8.287780   \n",
       "\n",
       "     TI_D_ratio_log  \n",
       "118        8.447414  \n",
       "119        9.028099  \n",
       "120        8.059118  \n",
       "121        8.713582  \n",
       "122        8.780480  "
      ]
     },
     "execution_count": 59,
     "metadata": {},
     "output_type": "execute_result"
    }
   ],
   "source": [
    "df_test.tail()"
   ]
  },
  {
   "cell_type": "code",
   "execution_count": 60,
   "metadata": {},
   "outputs": [
    {
     "name": "stdout",
     "output_type": "stream",
     "text": [
      "(334, 18)\n"
     ]
    },
    {
     "data": {
      "text/html": [
       "<div>\n",
       "<style scoped>\n",
       "    .dataframe tbody tr th:only-of-type {\n",
       "        vertical-align: middle;\n",
       "    }\n",
       "\n",
       "    .dataframe tbody tr th {\n",
       "        vertical-align: top;\n",
       "    }\n",
       "\n",
       "    .dataframe thead th {\n",
       "        text-align: right;\n",
       "    }\n",
       "</style>\n",
       "<table border=\"1\" class=\"dataframe\">\n",
       "  <thead>\n",
       "    <tr style=\"text-align: right;\">\n",
       "      <th></th>\n",
       "      <th>index</th>\n",
       "      <th>Gender</th>\n",
       "      <th>Married</th>\n",
       "      <th>Dependents</th>\n",
       "      <th>Education</th>\n",
       "      <th>Self_Employed</th>\n",
       "      <th>Loan_Amount_Term</th>\n",
       "      <th>Credit_History</th>\n",
       "      <th>Loan_Status</th>\n",
       "      <th>Property_Area_Rural</th>\n",
       "      <th>Property_Area_Urban</th>\n",
       "      <th>AI_log</th>\n",
       "      <th>CAI_log</th>\n",
       "      <th>LA_log</th>\n",
       "      <th>LA_LAT_ratio</th>\n",
       "      <th>TI_log</th>\n",
       "      <th>AI_D_ratio_log</th>\n",
       "      <th>TI_D_ratio_log</th>\n",
       "    </tr>\n",
       "  </thead>\n",
       "  <tbody>\n",
       "    <tr>\n",
       "      <th>0</th>\n",
       "      <td>1</td>\n",
       "      <td>1.0</td>\n",
       "      <td>1.0</td>\n",
       "      <td>3.0</td>\n",
       "      <td>0.0</td>\n",
       "      <td>0.0</td>\n",
       "      <td>360.0</td>\n",
       "      <td>1.0</td>\n",
       "      <td>1.0</td>\n",
       "      <td>1.0</td>\n",
       "      <td>0.0</td>\n",
       "      <td>9.159573</td>\n",
       "      <td>0.000000</td>\n",
       "      <td>5.616771</td>\n",
       "      <td>0.763889</td>\n",
       "      <td>9.159468</td>\n",
       "      <td>7.773174</td>\n",
       "      <td>7.773174</td>\n",
       "    </tr>\n",
       "    <tr>\n",
       "      <th>1</th>\n",
       "      <td>2</td>\n",
       "      <td>1.0</td>\n",
       "      <td>0.0</td>\n",
       "      <td>0.0</td>\n",
       "      <td>1.0</td>\n",
       "      <td>0.0</td>\n",
       "      <td>360.0</td>\n",
       "      <td>1.0</td>\n",
       "      <td>1.0</td>\n",
       "      <td>0.0</td>\n",
       "      <td>0.0</td>\n",
       "      <td>8.822322</td>\n",
       "      <td>0.000000</td>\n",
       "      <td>4.867534</td>\n",
       "      <td>0.361111</td>\n",
       "      <td>8.822175</td>\n",
       "      <td>8.822175</td>\n",
       "      <td>8.822175</td>\n",
       "    </tr>\n",
       "    <tr>\n",
       "      <th>2</th>\n",
       "      <td>3</td>\n",
       "      <td>1.0</td>\n",
       "      <td>1.0</td>\n",
       "      <td>0.0</td>\n",
       "      <td>0.0</td>\n",
       "      <td>1.0</td>\n",
       "      <td>360.0</td>\n",
       "      <td>1.0</td>\n",
       "      <td>1.0</td>\n",
       "      <td>0.0</td>\n",
       "      <td>1.0</td>\n",
       "      <td>9.687878</td>\n",
       "      <td>0.000000</td>\n",
       "      <td>5.560682</td>\n",
       "      <td>0.722222</td>\n",
       "      <td>9.687816</td>\n",
       "      <td>9.687816</td>\n",
       "      <td>9.687816</td>\n",
       "    </tr>\n",
       "    <tr>\n",
       "      <th>3</th>\n",
       "      <td>5</td>\n",
       "      <td>1.0</td>\n",
       "      <td>0.0</td>\n",
       "      <td>0.0</td>\n",
       "      <td>0.0</td>\n",
       "      <td>0.0</td>\n",
       "      <td>360.0</td>\n",
       "      <td>1.0</td>\n",
       "      <td>1.0</td>\n",
       "      <td>1.0</td>\n",
       "      <td>0.0</td>\n",
       "      <td>8.699681</td>\n",
       "      <td>0.000000</td>\n",
       "      <td>4.941642</td>\n",
       "      <td>0.388889</td>\n",
       "      <td>8.699515</td>\n",
       "      <td>8.699515</td>\n",
       "      <td>8.699515</td>\n",
       "    </tr>\n",
       "    <tr>\n",
       "      <th>4</th>\n",
       "      <td>7</td>\n",
       "      <td>1.0</td>\n",
       "      <td>1.0</td>\n",
       "      <td>0.0</td>\n",
       "      <td>1.0</td>\n",
       "      <td>0.0</td>\n",
       "      <td>360.0</td>\n",
       "      <td>1.0</td>\n",
       "      <td>1.0</td>\n",
       "      <td>0.0</td>\n",
       "      <td>0.0</td>\n",
       "      <td>8.133587</td>\n",
       "      <td>8.393442</td>\n",
       "      <td>4.812184</td>\n",
       "      <td>0.341667</td>\n",
       "      <td>8.964823</td>\n",
       "      <td>8.133294</td>\n",
       "      <td>8.964823</td>\n",
       "    </tr>\n",
       "  </tbody>\n",
       "</table>\n",
       "</div>"
      ],
      "text/plain": [
       "   index  Gender  Married  Dependents  Education  Self_Employed  \\\n",
       "0      1     1.0      1.0         3.0        0.0            0.0   \n",
       "1      2     1.0      0.0         0.0        1.0            0.0   \n",
       "2      3     1.0      1.0         0.0        0.0            1.0   \n",
       "3      5     1.0      0.0         0.0        0.0            0.0   \n",
       "4      7     1.0      1.0         0.0        1.0            0.0   \n",
       "\n",
       "   Loan_Amount_Term  Credit_History  Loan_Status  Property_Area_Rural  \\\n",
       "0             360.0             1.0          1.0                  1.0   \n",
       "1             360.0             1.0          1.0                  0.0   \n",
       "2             360.0             1.0          1.0                  0.0   \n",
       "3             360.0             1.0          1.0                  1.0   \n",
       "4             360.0             1.0          1.0                  0.0   \n",
       "\n",
       "   Property_Area_Urban    AI_log   CAI_log    LA_log  LA_LAT_ratio    TI_log  \\\n",
       "0                  0.0  9.159573  0.000000  5.616771      0.763889  9.159468   \n",
       "1                  0.0  8.822322  0.000000  4.867534      0.361111  8.822175   \n",
       "2                  1.0  9.687878  0.000000  5.560682      0.722222  9.687816   \n",
       "3                  0.0  8.699681  0.000000  4.941642      0.388889  8.699515   \n",
       "4                  0.0  8.133587  8.393442  4.812184      0.341667  8.964823   \n",
       "\n",
       "   AI_D_ratio_log  TI_D_ratio_log  \n",
       "0        7.773174        7.773174  \n",
       "1        8.822175        8.822175  \n",
       "2        9.687816        9.687816  \n",
       "3        8.699515        8.699515  \n",
       "4        8.133294        8.964823  "
      ]
     },
     "execution_count": 60,
     "metadata": {},
     "output_type": "execute_result"
    }
   ],
   "source": [
    "df_train_pos = df_train[df_train['Loan_Status']==1]\n",
    "\n",
    "df_train_pos = df_train_pos.reset_index()\n",
    "\n",
    "\n",
    "print(df_train_pos.shape)\n",
    "\n",
    "\n",
    "df_train_pos.head()"
   ]
  },
  {
   "cell_type": "code",
   "execution_count": 61,
   "metadata": {},
   "outputs": [
    {
     "data": {
      "text/html": [
       "<div>\n",
       "<style scoped>\n",
       "    .dataframe tbody tr th:only-of-type {\n",
       "        vertical-align: middle;\n",
       "    }\n",
       "\n",
       "    .dataframe tbody tr th {\n",
       "        vertical-align: top;\n",
       "    }\n",
       "\n",
       "    .dataframe thead th {\n",
       "        text-align: right;\n",
       "    }\n",
       "</style>\n",
       "<table border=\"1\" class=\"dataframe\">\n",
       "  <thead>\n",
       "    <tr style=\"text-align: right;\">\n",
       "      <th></th>\n",
       "      <th>index</th>\n",
       "      <th>Gender</th>\n",
       "      <th>Married</th>\n",
       "      <th>Dependents</th>\n",
       "      <th>Education</th>\n",
       "      <th>Self_Employed</th>\n",
       "      <th>Loan_Amount_Term</th>\n",
       "      <th>Credit_History</th>\n",
       "      <th>Loan_Status</th>\n",
       "      <th>Property_Area_Rural</th>\n",
       "      <th>Property_Area_Urban</th>\n",
       "      <th>AI_log</th>\n",
       "      <th>CAI_log</th>\n",
       "      <th>LA_log</th>\n",
       "      <th>LA_LAT_ratio</th>\n",
       "      <th>TI_log</th>\n",
       "      <th>AI_D_ratio_log</th>\n",
       "      <th>TI_D_ratio_log</th>\n",
       "    </tr>\n",
       "  </thead>\n",
       "  <tbody>\n",
       "    <tr>\n",
       "      <th>0</th>\n",
       "      <td>0</td>\n",
       "      <td>1.0</td>\n",
       "      <td>1.0</td>\n",
       "      <td>0.0</td>\n",
       "      <td>0.0</td>\n",
       "      <td>0.0</td>\n",
       "      <td>360.0</td>\n",
       "      <td>0.0</td>\n",
       "      <td>0.0</td>\n",
       "      <td>1.0</td>\n",
       "      <td>0.0</td>\n",
       "      <td>8.281218</td>\n",
       "      <td>7.458186</td>\n",
       "      <td>5.003946</td>\n",
       "      <td>0.413889</td>\n",
       "      <td>8.644883</td>\n",
       "      <td>8.280964</td>\n",
       "      <td>8.644883</td>\n",
       "    </tr>\n",
       "    <tr>\n",
       "      <th>1</th>\n",
       "      <td>4</td>\n",
       "      <td>1.0</td>\n",
       "      <td>1.0</td>\n",
       "      <td>2.0</td>\n",
       "      <td>0.0</td>\n",
       "      <td>0.0</td>\n",
       "      <td>360.0</td>\n",
       "      <td>0.0</td>\n",
       "      <td>0.0</td>\n",
       "      <td>1.0</td>\n",
       "      <td>0.0</td>\n",
       "      <td>8.114025</td>\n",
       "      <td>7.444833</td>\n",
       "      <td>5.010635</td>\n",
       "      <td>0.416667</td>\n",
       "      <td>8.527144</td>\n",
       "      <td>7.015114</td>\n",
       "      <td>7.428531</td>\n",
       "    </tr>\n",
       "    <tr>\n",
       "      <th>2</th>\n",
       "      <td>6</td>\n",
       "      <td>1.0</td>\n",
       "      <td>1.0</td>\n",
       "      <td>1.0</td>\n",
       "      <td>0.0</td>\n",
       "      <td>1.0</td>\n",
       "      <td>360.0</td>\n",
       "      <td>1.0</td>\n",
       "      <td>0.0</td>\n",
       "      <td>0.0</td>\n",
       "      <td>1.0</td>\n",
       "      <td>6.908755</td>\n",
       "      <td>8.014005</td>\n",
       "      <td>4.700480</td>\n",
       "      <td>0.305556</td>\n",
       "      <td>8.299535</td>\n",
       "      <td>6.214608</td>\n",
       "      <td>7.606387</td>\n",
       "    </tr>\n",
       "    <tr>\n",
       "      <th>3</th>\n",
       "      <td>8</td>\n",
       "      <td>0.0</td>\n",
       "      <td>1.0</td>\n",
       "      <td>0.0</td>\n",
       "      <td>0.0</td>\n",
       "      <td>1.0</td>\n",
       "      <td>360.0</td>\n",
       "      <td>0.0</td>\n",
       "      <td>0.0</td>\n",
       "      <td>1.0</td>\n",
       "      <td>0.0</td>\n",
       "      <td>8.612685</td>\n",
       "      <td>0.000000</td>\n",
       "      <td>4.653960</td>\n",
       "      <td>0.291667</td>\n",
       "      <td>8.612503</td>\n",
       "      <td>8.612503</td>\n",
       "      <td>8.612503</td>\n",
       "    </tr>\n",
       "    <tr>\n",
       "      <th>4</th>\n",
       "      <td>11</td>\n",
       "      <td>1.0</td>\n",
       "      <td>0.0</td>\n",
       "      <td>0.0</td>\n",
       "      <td>1.0</td>\n",
       "      <td>0.0</td>\n",
       "      <td>360.0</td>\n",
       "      <td>0.0</td>\n",
       "      <td>0.0</td>\n",
       "      <td>1.0</td>\n",
       "      <td>0.0</td>\n",
       "      <td>8.707152</td>\n",
       "      <td>0.000000</td>\n",
       "      <td>4.744932</td>\n",
       "      <td>0.319444</td>\n",
       "      <td>8.706987</td>\n",
       "      <td>8.706987</td>\n",
       "      <td>8.706987</td>\n",
       "    </tr>\n",
       "  </tbody>\n",
       "</table>\n",
       "</div>"
      ],
      "text/plain": [
       "   index  Gender  Married  Dependents  Education  Self_Employed  \\\n",
       "0      0     1.0      1.0         0.0        0.0            0.0   \n",
       "1      4     1.0      1.0         2.0        0.0            0.0   \n",
       "2      6     1.0      1.0         1.0        0.0            1.0   \n",
       "3      8     0.0      1.0         0.0        0.0            1.0   \n",
       "4     11     1.0      0.0         0.0        1.0            0.0   \n",
       "\n",
       "   Loan_Amount_Term  Credit_History  Loan_Status  Property_Area_Rural  \\\n",
       "0             360.0             0.0          0.0                  1.0   \n",
       "1             360.0             0.0          0.0                  1.0   \n",
       "2             360.0             1.0          0.0                  0.0   \n",
       "3             360.0             0.0          0.0                  1.0   \n",
       "4             360.0             0.0          0.0                  1.0   \n",
       "\n",
       "   Property_Area_Urban    AI_log   CAI_log    LA_log  LA_LAT_ratio    TI_log  \\\n",
       "0                  0.0  8.281218  7.458186  5.003946      0.413889  8.644883   \n",
       "1                  0.0  8.114025  7.444833  5.010635      0.416667  8.527144   \n",
       "2                  1.0  6.908755  8.014005  4.700480      0.305556  8.299535   \n",
       "3                  0.0  8.612685  0.000000  4.653960      0.291667  8.612503   \n",
       "4                  0.0  8.707152  0.000000  4.744932      0.319444  8.706987   \n",
       "\n",
       "   AI_D_ratio_log  TI_D_ratio_log  \n",
       "0        8.280964        8.644883  \n",
       "1        7.015114        7.428531  \n",
       "2        6.214608        7.606387  \n",
       "3        8.612503        8.612503  \n",
       "4        8.706987        8.706987  "
      ]
     },
     "execution_count": 61,
     "metadata": {},
     "output_type": "execute_result"
    }
   ],
   "source": [
    "\n",
    "df_train_neg = df_train[df_train['Loan_Status']==0]\n",
    "\n",
    "df_train_neg = df_train_neg.reset_index()\n",
    "\n",
    "df_train_neg.head()"
   ]
  },
  {
   "cell_type": "code",
   "execution_count": 62,
   "metadata": {},
   "outputs": [
    {
     "data": {
      "text/plain": [
       "(157, 18)"
      ]
     },
     "execution_count": 62,
     "metadata": {},
     "output_type": "execute_result"
    }
   ],
   "source": [
    "df_train_neg.shape"
   ]
  },
  {
   "cell_type": "code",
   "execution_count": 63,
   "metadata": {},
   "outputs": [
    {
     "data": {
      "text/html": [
       "<div>\n",
       "<style scoped>\n",
       "    .dataframe tbody tr th:only-of-type {\n",
       "        vertical-align: middle;\n",
       "    }\n",
       "\n",
       "    .dataframe tbody tr th {\n",
       "        vertical-align: top;\n",
       "    }\n",
       "\n",
       "    .dataframe thead th {\n",
       "        text-align: right;\n",
       "    }\n",
       "</style>\n",
       "<table border=\"1\" class=\"dataframe\">\n",
       "  <thead>\n",
       "    <tr style=\"text-align: right;\">\n",
       "      <th></th>\n",
       "      <th>Gender</th>\n",
       "      <th>Married</th>\n",
       "      <th>Dependents</th>\n",
       "      <th>Education</th>\n",
       "      <th>Self_Employed</th>\n",
       "      <th>Loan_Amount_Term</th>\n",
       "      <th>Credit_History</th>\n",
       "      <th>Loan_Status</th>\n",
       "      <th>Property_Area_Rural</th>\n",
       "      <th>Property_Area_Urban</th>\n",
       "      <th>AI_log</th>\n",
       "      <th>CAI_log</th>\n",
       "      <th>LA_log</th>\n",
       "      <th>LA_LAT_ratio</th>\n",
       "      <th>TI_log</th>\n",
       "      <th>AI_D_ratio_log</th>\n",
       "      <th>TI_D_ratio_log</th>\n",
       "    </tr>\n",
       "  </thead>\n",
       "  <tbody>\n",
       "    <tr>\n",
       "      <th>0</th>\n",
       "      <td>1.0</td>\n",
       "      <td>1.0</td>\n",
       "      <td>0.0</td>\n",
       "      <td>0.0</td>\n",
       "      <td>0.0</td>\n",
       "      <td>360.0</td>\n",
       "      <td>1.0</td>\n",
       "      <td>1.0</td>\n",
       "      <td>0.0</td>\n",
       "      <td>0.0</td>\n",
       "      <td>7.793999</td>\n",
       "      <td>7.758333</td>\n",
       "      <td>4.962845</td>\n",
       "      <td>0.397222</td>\n",
       "      <td>8.469053</td>\n",
       "      <td>7.793587</td>\n",
       "      <td>8.469053</td>\n",
       "    </tr>\n",
       "    <tr>\n",
       "      <th>1</th>\n",
       "      <td>1.0</td>\n",
       "      <td>1.0</td>\n",
       "      <td>0.0</td>\n",
       "      <td>0.0</td>\n",
       "      <td>0.0</td>\n",
       "      <td>360.0</td>\n",
       "      <td>1.0</td>\n",
       "      <td>1.0</td>\n",
       "      <td>0.0</td>\n",
       "      <td>1.0</td>\n",
       "      <td>7.824446</td>\n",
       "      <td>8.241967</td>\n",
       "      <td>4.787492</td>\n",
       "      <td>0.333333</td>\n",
       "      <td>8.747670</td>\n",
       "      <td>7.824046</td>\n",
       "      <td>8.747670</td>\n",
       "    </tr>\n",
       "    <tr>\n",
       "      <th>2</th>\n",
       "      <td>1.0</td>\n",
       "      <td>0.0</td>\n",
       "      <td>0.0</td>\n",
       "      <td>0.0</td>\n",
       "      <td>0.0</td>\n",
       "      <td>360.0</td>\n",
       "      <td>1.0</td>\n",
       "      <td>1.0</td>\n",
       "      <td>0.0</td>\n",
       "      <td>0.0</td>\n",
       "      <td>7.908019</td>\n",
       "      <td>0.000000</td>\n",
       "      <td>4.248495</td>\n",
       "      <td>0.194444</td>\n",
       "      <td>7.907652</td>\n",
       "      <td>7.907652</td>\n",
       "      <td>7.907652</td>\n",
       "    </tr>\n",
       "    <tr>\n",
       "      <th>3</th>\n",
       "      <td>1.0</td>\n",
       "      <td>1.0</td>\n",
       "      <td>0.0</td>\n",
       "      <td>0.0</td>\n",
       "      <td>0.0</td>\n",
       "      <td>360.0</td>\n",
       "      <td>1.0</td>\n",
       "      <td>1.0</td>\n",
       "      <td>0.0</td>\n",
       "      <td>1.0</td>\n",
       "      <td>7.857094</td>\n",
       "      <td>7.657283</td>\n",
       "      <td>4.787492</td>\n",
       "      <td>0.333333</td>\n",
       "      <td>8.454892</td>\n",
       "      <td>7.856707</td>\n",
       "      <td>8.454892</td>\n",
       "    </tr>\n",
       "    <tr>\n",
       "      <th>4</th>\n",
       "      <td>1.0</td>\n",
       "      <td>1.0</td>\n",
       "      <td>0.0</td>\n",
       "      <td>0.0</td>\n",
       "      <td>0.0</td>\n",
       "      <td>360.0</td>\n",
       "      <td>1.0</td>\n",
       "      <td>1.0</td>\n",
       "      <td>0.0</td>\n",
       "      <td>0.0</td>\n",
       "      <td>8.111928</td>\n",
       "      <td>7.824446</td>\n",
       "      <td>4.852030</td>\n",
       "      <td>0.355556</td>\n",
       "      <td>8.671287</td>\n",
       "      <td>8.111628</td>\n",
       "      <td>8.671287</td>\n",
       "    </tr>\n",
       "  </tbody>\n",
       "</table>\n",
       "</div>"
      ],
      "text/plain": [
       "   Gender  Married  Dependents  Education  Self_Employed  Loan_Amount_Term  \\\n",
       "0     1.0      1.0         0.0        0.0            0.0             360.0   \n",
       "1     1.0      1.0         0.0        0.0            0.0             360.0   \n",
       "2     1.0      0.0         0.0        0.0            0.0             360.0   \n",
       "3     1.0      1.0         0.0        0.0            0.0             360.0   \n",
       "4     1.0      1.0         0.0        0.0            0.0             360.0   \n",
       "\n",
       "   Credit_History  Loan_Status  Property_Area_Rural  Property_Area_Urban  \\\n",
       "0             1.0          1.0                  0.0                  0.0   \n",
       "1             1.0          1.0                  0.0                  1.0   \n",
       "2             1.0          1.0                  0.0                  0.0   \n",
       "3             1.0          1.0                  0.0                  1.0   \n",
       "4             1.0          1.0                  0.0                  0.0   \n",
       "\n",
       "     AI_log   CAI_log    LA_log  LA_LAT_ratio    TI_log  AI_D_ratio_log  \\\n",
       "0  7.793999  7.758333  4.962845      0.397222  8.469053        7.793587   \n",
       "1  7.824446  8.241967  4.787492      0.333333  8.747670        7.824046   \n",
       "2  7.908019  0.000000  4.248495      0.194444  7.907652        7.907652   \n",
       "3  7.857094  7.657283  4.787492      0.333333  8.454892        7.856707   \n",
       "4  8.111928  7.824446  4.852030      0.355556  8.671287        8.111628   \n",
       "\n",
       "   TI_D_ratio_log  \n",
       "0        8.469053  \n",
       "1        8.747670  \n",
       "2        7.907652  \n",
       "3        8.454892  \n",
       "4        8.671287  "
      ]
     },
     "execution_count": 63,
     "metadata": {},
     "output_type": "execute_result"
    }
   ],
   "source": [
    "\n",
    "arr_pos =np.arange(0, df_train_pos.shape[0])    \n",
    "arr_pos_replicate =np.random.choice(arr_pos, size=2000)\n",
    "\n",
    "\n",
    "arr_neg = np.arange(0, df_train_neg.shape[0])\n",
    "arr_neg_replicate = np.random.choice(arr_neg, size=2000)\n",
    "\n",
    "df_rep = pd.DataFrame(np.zeros((4000, 17)), columns = df_train.columns)\n",
    "\n",
    "for i in range(2000):\n",
    "    df_rep.iloc[i,:] = df_train_pos.iloc[arr_pos_replicate[i], :]\n",
    "    \n",
    "   \n",
    "df_rep.head()\n",
    "    \n"
   ]
  },
  {
   "cell_type": "code",
   "execution_count": 64,
   "metadata": {},
   "outputs": [
    {
     "data": {
      "text/html": [
       "<div>\n",
       "<style scoped>\n",
       "    .dataframe tbody tr th:only-of-type {\n",
       "        vertical-align: middle;\n",
       "    }\n",
       "\n",
       "    .dataframe tbody tr th {\n",
       "        vertical-align: top;\n",
       "    }\n",
       "\n",
       "    .dataframe thead th {\n",
       "        text-align: right;\n",
       "    }\n",
       "</style>\n",
       "<table border=\"1\" class=\"dataframe\">\n",
       "  <thead>\n",
       "    <tr style=\"text-align: right;\">\n",
       "      <th></th>\n",
       "      <th>Gender</th>\n",
       "      <th>Married</th>\n",
       "      <th>Dependents</th>\n",
       "      <th>Education</th>\n",
       "      <th>Self_Employed</th>\n",
       "      <th>Loan_Amount_Term</th>\n",
       "      <th>Credit_History</th>\n",
       "      <th>Loan_Status</th>\n",
       "      <th>Property_Area_Rural</th>\n",
       "      <th>Property_Area_Urban</th>\n",
       "      <th>AI_log</th>\n",
       "      <th>CAI_log</th>\n",
       "      <th>LA_log</th>\n",
       "      <th>LA_LAT_ratio</th>\n",
       "      <th>TI_log</th>\n",
       "      <th>AI_D_ratio_log</th>\n",
       "      <th>TI_D_ratio_log</th>\n",
       "    </tr>\n",
       "  </thead>\n",
       "  <tbody>\n",
       "    <tr>\n",
       "      <th>3995</th>\n",
       "      <td>1.0</td>\n",
       "      <td>1.0</td>\n",
       "      <td>2.0</td>\n",
       "      <td>0.0</td>\n",
       "      <td>0.0</td>\n",
       "      <td>360.0</td>\n",
       "      <td>0.0</td>\n",
       "      <td>0.0</td>\n",
       "      <td>1.0</td>\n",
       "      <td>0.0</td>\n",
       "      <td>8.114025</td>\n",
       "      <td>7.444833</td>\n",
       "      <td>5.010635</td>\n",
       "      <td>0.416667</td>\n",
       "      <td>8.527144</td>\n",
       "      <td>7.015114</td>\n",
       "      <td>7.428531</td>\n",
       "    </tr>\n",
       "    <tr>\n",
       "      <th>3996</th>\n",
       "      <td>1.0</td>\n",
       "      <td>1.0</td>\n",
       "      <td>1.0</td>\n",
       "      <td>0.0</td>\n",
       "      <td>0.0</td>\n",
       "      <td>360.0</td>\n",
       "      <td>1.0</td>\n",
       "      <td>0.0</td>\n",
       "      <td>0.0</td>\n",
       "      <td>0.0</td>\n",
       "      <td>9.460476</td>\n",
       "      <td>9.302828</td>\n",
       "      <td>5.855072</td>\n",
       "      <td>0.969444</td>\n",
       "      <td>10.077819</td>\n",
       "      <td>8.767251</td>\n",
       "      <td>9.384672</td>\n",
       "    </tr>\n",
       "    <tr>\n",
       "      <th>3997</th>\n",
       "      <td>1.0</td>\n",
       "      <td>0.0</td>\n",
       "      <td>0.0</td>\n",
       "      <td>1.0</td>\n",
       "      <td>0.0</td>\n",
       "      <td>300.0</td>\n",
       "      <td>1.0</td>\n",
       "      <td>0.0</td>\n",
       "      <td>1.0</td>\n",
       "      <td>0.0</td>\n",
       "      <td>7.921536</td>\n",
       "      <td>0.000000</td>\n",
       "      <td>4.174387</td>\n",
       "      <td>0.216667</td>\n",
       "      <td>7.921173</td>\n",
       "      <td>7.921173</td>\n",
       "      <td>7.921173</td>\n",
       "    </tr>\n",
       "    <tr>\n",
       "      <th>3998</th>\n",
       "      <td>0.0</td>\n",
       "      <td>0.0</td>\n",
       "      <td>0.0</td>\n",
       "      <td>0.0</td>\n",
       "      <td>0.0</td>\n",
       "      <td>480.0</td>\n",
       "      <td>0.0</td>\n",
       "      <td>0.0</td>\n",
       "      <td>0.0</td>\n",
       "      <td>1.0</td>\n",
       "      <td>8.597482</td>\n",
       "      <td>0.000000</td>\n",
       "      <td>4.962845</td>\n",
       "      <td>0.297917</td>\n",
       "      <td>8.597297</td>\n",
       "      <td>8.597297</td>\n",
       "      <td>8.597297</td>\n",
       "    </tr>\n",
       "    <tr>\n",
       "      <th>3999</th>\n",
       "      <td>1.0</td>\n",
       "      <td>1.0</td>\n",
       "      <td>0.0</td>\n",
       "      <td>0.0</td>\n",
       "      <td>0.0</td>\n",
       "      <td>360.0</td>\n",
       "      <td>1.0</td>\n",
       "      <td>0.0</td>\n",
       "      <td>1.0</td>\n",
       "      <td>0.0</td>\n",
       "      <td>8.712924</td>\n",
       "      <td>7.851661</td>\n",
       "      <td>5.204007</td>\n",
       "      <td>0.505556</td>\n",
       "      <td>9.065199</td>\n",
       "      <td>8.712760</td>\n",
       "      <td>9.065199</td>\n",
       "    </tr>\n",
       "  </tbody>\n",
       "</table>\n",
       "</div>"
      ],
      "text/plain": [
       "      Gender  Married  Dependents  Education  Self_Employed  Loan_Amount_Term  \\\n",
       "3995     1.0      1.0         2.0        0.0            0.0             360.0   \n",
       "3996     1.0      1.0         1.0        0.0            0.0             360.0   \n",
       "3997     1.0      0.0         0.0        1.0            0.0             300.0   \n",
       "3998     0.0      0.0         0.0        0.0            0.0             480.0   \n",
       "3999     1.0      1.0         0.0        0.0            0.0             360.0   \n",
       "\n",
       "      Credit_History  Loan_Status  Property_Area_Rural  Property_Area_Urban  \\\n",
       "3995             0.0          0.0                  1.0                  0.0   \n",
       "3996             1.0          0.0                  0.0                  0.0   \n",
       "3997             1.0          0.0                  1.0                  0.0   \n",
       "3998             0.0          0.0                  0.0                  1.0   \n",
       "3999             1.0          0.0                  1.0                  0.0   \n",
       "\n",
       "        AI_log   CAI_log    LA_log  LA_LAT_ratio     TI_log  AI_D_ratio_log  \\\n",
       "3995  8.114025  7.444833  5.010635      0.416667   8.527144        7.015114   \n",
       "3996  9.460476  9.302828  5.855072      0.969444  10.077819        8.767251   \n",
       "3997  7.921536  0.000000  4.174387      0.216667   7.921173        7.921173   \n",
       "3998  8.597482  0.000000  4.962845      0.297917   8.597297        8.597297   \n",
       "3999  8.712924  7.851661  5.204007      0.505556   9.065199        8.712760   \n",
       "\n",
       "      TI_D_ratio_log  \n",
       "3995        7.428531  \n",
       "3996        9.384672  \n",
       "3997        7.921173  \n",
       "3998        8.597297  \n",
       "3999        9.065199  "
      ]
     },
     "execution_count": 64,
     "metadata": {},
     "output_type": "execute_result"
    }
   ],
   "source": [
    "for i in range(2000,4000):\n",
    "    j= i-2000\n",
    "    df_rep.iloc[i,:] = df_train_neg.iloc[arr_neg_replicate[j], :]\n",
    "    \n",
    "df_rep.tail()\n",
    "    \n",
    "\n"
   ]
  },
  {
   "cell_type": "code",
   "execution_count": 65,
   "metadata": {},
   "outputs": [
    {
     "data": {
      "text/plain": [
       "Index(['Gender', 'Married', 'Dependents', 'Education', 'Self_Employed',\n",
       "       'Loan_Amount_Term', 'Credit_History', 'Loan_Status',\n",
       "       'Property_Area_Rural', 'Property_Area_Urban', 'AI_log', 'CAI_log',\n",
       "       'LA_log', 'LA_LAT_ratio', 'TI_log', 'AI_D_ratio_log', 'TI_D_ratio_log'],\n",
       "      dtype='object')"
      ]
     },
     "execution_count": 65,
     "metadata": {},
     "output_type": "execute_result"
    }
   ],
   "source": [
    "df_rep.columns"
   ]
  },
  {
   "cell_type": "code",
   "execution_count": 66,
   "metadata": {},
   "outputs": [
    {
     "name": "stdout",
     "output_type": "stream",
     "text": [
      "[2350 3177 1743 3919 2353 3124 3607 3201 1346  194]\n"
     ]
    }
   ],
   "source": [
    "array = np.arange(0,4000)\n",
    "arr_pmt = np.random.permutation(array)\n",
    "print(arr_pmt[0:10])"
   ]
  },
  {
   "cell_type": "code",
   "execution_count": 67,
   "metadata": {},
   "outputs": [],
   "source": [
    "df_pmt = pd.DataFrame(np.zeros(df_rep.shape), columns = df_rep.columns)\n"
   ]
  },
  {
   "cell_type": "code",
   "execution_count": 68,
   "metadata": {},
   "outputs": [
    {
     "data": {
      "text/plain": [
       "(4000, 17)"
      ]
     },
     "execution_count": 68,
     "metadata": {},
     "output_type": "execute_result"
    }
   ],
   "source": [
    "df_pmt.shape"
   ]
  },
  {
   "cell_type": "code",
   "execution_count": 69,
   "metadata": {},
   "outputs": [],
   "source": [
    "for i in range(4000):\n",
    "    df_pmt.iloc[i,:] = df_rep.iloc[arr_pmt[i], :]"
   ]
  },
  {
   "cell_type": "code",
   "execution_count": 70,
   "metadata": {},
   "outputs": [],
   "source": [
    "df_pmt_aug = pd.DataFrame(np.zeros((4123, 17)), columns = df_pmt.columns)\n",
    "\n",
    "for i in range(123):\n",
    "    df_pmt_aug.iloc[i+4000, :] = df_test.iloc[i, :]\n",
    "    \n",
    "for i in range(4000):\n",
    "    df_pmt_aug.iloc[i, :] = df_pmt.iloc[i,:]\n",
    "    \n"
   ]
  },
  {
   "cell_type": "code",
   "execution_count": 71,
   "metadata": {},
   "outputs": [
    {
     "data": {
      "text/plain": [
       "(16, 4000)"
      ]
     },
     "execution_count": 71,
     "metadata": {},
     "output_type": "execute_result"
    }
   ],
   "source": [
    "Y_rep = df_pmt['Loan_Status']\n",
    "\n",
    "Y_rep_transpose = (pd.DataFrame(Y_rep)).T\n",
    "\n",
    "X_rep_aug = df_pmt_aug.drop(['Loan_Status'], axis=1)\n",
    "\n",
    "X_aug_scaled = pd.DataFrame(scaler.fit_transform(X_rep_aug))\n",
    "\n",
    "X_rep = X_aug_scaled.iloc[0:4000, :]\n",
    "\n",
    "X_test = X_aug_scaled.iloc[4000:4123, :]\n",
    "\n",
    "X_rep_transpose = (X_rep).T\n",
    "\n",
    "X_test_transpose = (X_test).T\n",
    "\n",
    "X_rep_transpose.shape"
   ]
  },
  {
   "cell_type": "markdown",
   "metadata": {},
   "source": [
    "# Applying 2-layer nn with ADAM on resampled data"
   ]
  },
  {
   "cell_type": "code",
   "execution_count": 72,
   "metadata": {
    "scrolled": true
   },
   "outputs": [
    {
     "name": "stdout",
     "output_type": "stream",
     "text": [
      "Cross-entropy cost after iteration 0: 1.758616\n",
      "Cross-entropy cost after iteration 50: 1.177000\n",
      "Cross-entropy cost after iteration 100: 0.781683\n",
      "Cross-entropy cost after iteration 150: 0.623561\n",
      "Cross-entropy cost after iteration 200: 0.587259\n",
      "Cross-entropy cost after iteration 250: 0.627130\n",
      "Cross-entropy cost after iteration 300: 0.687081\n"
     ]
    }
   ],
   "source": [
    "params = nn_model(X_rep_transpose, Y_rep_transpose, n_h = 15, num_iterations = 301, lambd=0.25, learning_rate=0.001, decay_rate=0.00005, adam=True, print_freq=50, print_cost=True)\n",
    "\n"
   ]
  },
  {
   "cell_type": "code",
   "execution_count": 73,
   "metadata": {},
   "outputs": [
    {
     "name": "stdout",
     "output_type": "stream",
     "text": [
      "Accuracy: 77%\n"
     ]
    }
   ],
   "source": [
    "# Print accuracy\n",
    "predictions, A2 = predict(params, X_rep_transpose)\n",
    "print ('Accuracy: %d' % float((np.dot(Y_rep, predictions.T) \n",
    "                               + np.dot(1-Y_rep,1-predictions.T))/float(Y_rep.size)*100) + '%')"
   ]
  },
  {
   "cell_type": "code",
   "execution_count": 74,
   "metadata": {},
   "outputs": [],
   "source": [
    "Y_test = df_test['Loan_Status']\n",
    "\n",
    "Y_test_transpose = pd.DataFrame(Y_test).T\n",
    "\n"
   ]
  },
  {
   "cell_type": "code",
   "execution_count": 75,
   "metadata": {},
   "outputs": [
    {
     "name": "stdout",
     "output_type": "stream",
     "text": [
      "Accuracy on test set: 78%\n"
     ]
    }
   ],
   "source": [
    "predictions, A2 = predict(params, X_test_transpose)\n",
    "print ('Accuracy on test set: %d' % float((np.dot(Y_test.T, predictions.T)\n",
    "                                           + np.dot((1-Y_test).T, (1-predictions).T)\n",
    "                                          )/float(Y_test.size)*100) + '%')"
   ]
  },
  {
   "cell_type": "code",
   "execution_count": 76,
   "metadata": {},
   "outputs": [
    {
     "name": "stdout",
     "output_type": "stream",
     "text": [
      "0.531901199237\n"
     ]
    }
   ],
   "source": [
    "logprobs = (np.multiply(np.log(A2),Y_test_transpose) + np.multiply(np.log(1-A2),1-Y_test_transpose) ).values\n",
    "cost_entropy = - np.sum(logprobs)/122\n",
    "print(cost_entropy)\n",
    "    "
   ]
  },
  {
   "cell_type": "code",
   "execution_count": 77,
   "metadata": {},
   "outputs": [
    {
     "name": "stdout",
     "output_type": "stream",
     "text": [
      "             precision    recall  f1-score   support\n",
      "\n",
      "        0.0       0.63      0.63      0.63        35\n",
      "        1.0       0.85      0.85      0.85        88\n",
      "\n",
      "avg / total       0.79      0.79      0.79       123\n",
      "\n"
     ]
    }
   ],
   "source": [
    "print(classification_report(Y_test, predictions.T))"
   ]
  },
  {
   "cell_type": "markdown",
   "metadata": {},
   "source": [
    "The accuracy of 78% on test set is similar to the 77.7 % mean CV score of AdaBoost. Recall and precision for class 0 (0.63 each) are more balanced than AdaBoost (0.75 and 0.55). Overall f-1 score of 0.79 is slighlty lower than the 0.80 obtained by AdaBoost."
   ]
  },
  {
   "cell_type": "markdown",
   "metadata": {},
   "source": [
    "# Applying 2 layer nn with Momentum on resampled data"
   ]
  },
  {
   "cell_type": "code",
   "execution_count": 78,
   "metadata": {},
   "outputs": [
    {
     "name": "stdout",
     "output_type": "stream",
     "text": [
      "Cross-entropy cost after iteration 0: 1.757940\n",
      "Cross-entropy cost after iteration 300: 1.031861\n",
      "Cross-entropy cost after iteration 600: 0.866071\n",
      "Cross-entropy cost after iteration 900: 0.781219\n",
      "Cross-entropy cost after iteration 1200: 0.717607\n",
      "Cross-entropy cost after iteration 1500: 0.669841\n",
      "Cross-entropy cost after iteration 1800: 0.636587\n",
      "Cross-entropy cost after iteration 2100: 0.615424\n",
      "Cross-entropy cost after iteration 2400: 0.603649\n",
      "Cross-entropy cost after iteration 2700: 0.598948\n",
      "Cross-entropy cost after iteration 3000: 0.599558\n"
     ]
    }
   ],
   "source": [
    "params = nn_model(X_rep_transpose, Y_rep_transpose, n_h = 15, num_iterations = 3001, lambd=0.1, learning_rate=0.01, decay_rate=0.00005,  print_freq=300, print_cost=True)\n",
    "\n",
    "    "
   ]
  },
  {
   "cell_type": "code",
   "execution_count": 79,
   "metadata": {},
   "outputs": [
    {
     "name": "stdout",
     "output_type": "stream",
     "text": [
      "Accuracy: 76%\n"
     ]
    }
   ],
   "source": [
    "# Print accuracy\n",
    "predictions, A2 = predict(params, X_rep_transpose)\n",
    "print ('Accuracy: %d' % float((np.dot(Y_rep, predictions.T) \n",
    "                               + np.dot(1-Y_rep,1-predictions.T))/float(Y_rep.size)*100) + '%')"
   ]
  },
  {
   "cell_type": "code",
   "execution_count": 80,
   "metadata": {},
   "outputs": [
    {
     "name": "stdout",
     "output_type": "stream",
     "text": [
      "Accuracy on test set: 79%\n"
     ]
    }
   ],
   "source": [
    "predictions, A2 = predict(params, X_test_transpose)\n",
    "print ('Accuracy on test set: %d' % float((np.dot(Y_test.T, predictions.T)\n",
    "                                           + np.dot((1-Y_test).T, (1-predictions).T)\n",
    "                                          )/float(Y_test.size)*100) + '%')"
   ]
  },
  {
   "cell_type": "code",
   "execution_count": 81,
   "metadata": {},
   "outputs": [
    {
     "name": "stdout",
     "output_type": "stream",
     "text": [
      "0.517614699367\n"
     ]
    }
   ],
   "source": [
    "logprobs = (np.multiply(np.log(A2),Y_test_transpose) + np.multiply(np.log(1-A2),1-Y_test_transpose) ).values\n",
    "cost_entropy = - np.sum(logprobs)/122\n",
    "print(cost_entropy)\n",
    "    "
   ]
  },
  {
   "cell_type": "code",
   "execution_count": 82,
   "metadata": {},
   "outputs": [
    {
     "name": "stdout",
     "output_type": "stream",
     "text": [
      "             precision    recall  f1-score   support\n",
      "\n",
      "        0.0       0.65      0.63      0.64        35\n",
      "        1.0       0.85      0.86      0.86        88\n",
      "\n",
      "avg / total       0.80      0.80      0.80       123\n",
      "\n"
     ]
    }
   ],
   "source": [
    "print(classification_report(Y_test, predictions.T))"
   ]
  },
  {
   "cell_type": "markdown",
   "metadata": {},
   "source": [
    "This is better than AdaBoost in most aspects. The accuracy of 79% on test set compares favorably to the 77.7 % mean CV score of AdaBoost. Recall and precision for class 0 (0.65, 0.63) are much more balanced than AdaBoost (0.75 and 0.55). Overall f-1 score of 0.80 matches that of AdaBoost."
   ]
  },
  {
   "cell_type": "markdown",
   "metadata": {},
   "source": [
    "# Concluding remarks:\n",
    "\n",
    "In hindsight, I should have tried implementing Batch Normalization. That might have improved the performance of the neural nets. Well, may be next time ! \n",
    "\n",
    "I would really love to get some constructive criticism of these data experiments.  \n",
    "\n",
    "Finally, I would like to thank the Deep Learning courses on Coursera where I learnt how to build and optimize neural nets."
   ]
  },
  {
   "cell_type": "code",
   "execution_count": null,
   "metadata": {},
   "outputs": [],
   "source": []
  }
 ],
 "metadata": {
  "kernelspec": {
   "display_name": "Python 3",
   "language": "python",
   "name": "python3"
  },
  "language_info": {
   "codemirror_mode": {
    "name": "ipython",
    "version": 3
   },
   "file_extension": ".py",
   "mimetype": "text/x-python",
   "name": "python",
   "nbconvert_exporter": "python",
   "pygments_lexer": "ipython3",
   "version": "3.6.5"
  }
 },
 "nbformat": 4,
 "nbformat_minor": 2
}
